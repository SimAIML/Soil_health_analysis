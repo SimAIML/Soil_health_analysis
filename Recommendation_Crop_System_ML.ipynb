{
 "cells": [
  {
   "cell_type": "code",
   "execution_count": 46,
   "id": "572e380b",
   "metadata": {},
   "outputs": [],
   "source": [
    "import IPython\n",
    "import pandas as pd\n",
    "import numpy as np\n",
    "import matplotlib.pyplot as plt\n",
    "%matplotlib inline\n",
    "import seaborn as sns\n",
    "from IPython import get_ipython\n",
    "import warnings\n",
    "warnings.filterwarnings('ignore')\n",
    "import plotly.express as px\n",
    "import plotly.graph_objects as go\n",
    "from plotly.subplots import make_subplots\n",
    "\n",
    "#LGBM Model\n",
    "import lightgbm as lgb\n",
    "\n",
    "#Sklearn\n",
    "from sklearn.model_selection import train_test_split\n",
    "from sklearn.metrics import accuracy_score,confusion_matrix, classification_report\n",
    "from sklearn.tree import DecisionTreeClassifier\n",
    "from sklearn.linear_model import LogisticRegression"
   ]
  },
  {
   "cell_type": "code",
   "execution_count": 47,
   "id": "f505815d",
   "metadata": {},
   "outputs": [],
   "source": [
    "df_recommended= pd.read_excel('Cropping_System_final.xlsx')"
   ]
  },
  {
   "cell_type": "code",
   "execution_count": 48,
   "id": "909b304f",
   "metadata": {},
   "outputs": [
    {
     "data": {
      "text/plain": [
       "(360, 6)"
      ]
     },
     "execution_count": 48,
     "metadata": {},
     "output_type": "execute_result"
    }
   ],
   "source": [
    "df_recommended.shape"
   ]
  },
  {
   "cell_type": "code",
   "execution_count": 49,
   "id": "807b3fb9",
   "metadata": {},
   "outputs": [
    {
     "data": {
      "text/html": [
       "<div>\n",
       "<style scoped>\n",
       "    .dataframe tbody tr th:only-of-type {\n",
       "        vertical-align: middle;\n",
       "    }\n",
       "\n",
       "    .dataframe tbody tr th {\n",
       "        vertical-align: top;\n",
       "    }\n",
       "\n",
       "    .dataframe thead th {\n",
       "        text-align: right;\n",
       "    }\n",
       "</style>\n",
       "<table border=\"1\" class=\"dataframe\">\n",
       "  <thead>\n",
       "    <tr style=\"text-align: right;\">\n",
       "      <th></th>\n",
       "      <th>SAMPLE</th>\n",
       "      <th>LATITUTE</th>\n",
       "      <th>LONGITUDE</th>\n",
       "      <th>Season</th>\n",
       "      <th>SQI</th>\n",
       "      <th>Label</th>\n",
       "    </tr>\n",
       "  </thead>\n",
       "  <tbody>\n",
       "    <tr>\n",
       "      <th>0</th>\n",
       "      <td>1</td>\n",
       "      <td>26.733005</td>\n",
       "      <td>93.077304</td>\n",
       "      <td>Kharif</td>\n",
       "      <td>0.77</td>\n",
       "      <td>Rice</td>\n",
       "    </tr>\n",
       "    <tr>\n",
       "      <th>1</th>\n",
       "      <td>2</td>\n",
       "      <td>26.733005</td>\n",
       "      <td>93.077304</td>\n",
       "      <td>Rabi</td>\n",
       "      <td>0.77</td>\n",
       "      <td>Fallow</td>\n",
       "    </tr>\n",
       "    <tr>\n",
       "      <th>2</th>\n",
       "      <td>3</td>\n",
       "      <td>26.715920</td>\n",
       "      <td>93.088185</td>\n",
       "      <td>Kharif</td>\n",
       "      <td>0.84</td>\n",
       "      <td>Rice</td>\n",
       "    </tr>\n",
       "    <tr>\n",
       "      <th>3</th>\n",
       "      <td>4</td>\n",
       "      <td>26.715920</td>\n",
       "      <td>93.088185</td>\n",
       "      <td>Rabi</td>\n",
       "      <td>0.84</td>\n",
       "      <td>Fallow</td>\n",
       "    </tr>\n",
       "    <tr>\n",
       "      <th>4</th>\n",
       "      <td>5</td>\n",
       "      <td>26.711278</td>\n",
       "      <td>93.103950</td>\n",
       "      <td>Kharif</td>\n",
       "      <td>0.85</td>\n",
       "      <td>Rice</td>\n",
       "    </tr>\n",
       "  </tbody>\n",
       "</table>\n",
       "</div>"
      ],
      "text/plain": [
       "   SAMPLE   LATITUTE  LONGITUDE  Season   SQI   Label\n",
       "0       1  26.733005  93.077304  Kharif  0.77    Rice\n",
       "1       2  26.733005  93.077304    Rabi  0.77  Fallow\n",
       "2       3  26.715920  93.088185  Kharif  0.84    Rice\n",
       "3       4  26.715920  93.088185    Rabi  0.84  Fallow\n",
       "4       5  26.711278  93.103950  Kharif  0.85    Rice"
      ]
     },
     "execution_count": 49,
     "metadata": {},
     "output_type": "execute_result"
    }
   ],
   "source": [
    "df_recommended.head()"
   ]
  },
  {
   "cell_type": "code",
   "execution_count": 50,
   "id": "7bf420e0",
   "metadata": {},
   "outputs": [
    {
     "data": {
      "text/html": [
       "<div>\n",
       "<style scoped>\n",
       "    .dataframe tbody tr th:only-of-type {\n",
       "        vertical-align: middle;\n",
       "    }\n",
       "\n",
       "    .dataframe tbody tr th {\n",
       "        vertical-align: top;\n",
       "    }\n",
       "\n",
       "    .dataframe thead th {\n",
       "        text-align: right;\n",
       "    }\n",
       "</style>\n",
       "<table border=\"1\" class=\"dataframe\">\n",
       "  <thead>\n",
       "    <tr style=\"text-align: right;\">\n",
       "      <th></th>\n",
       "      <th>SAMPLE</th>\n",
       "      <th>LATITUTE</th>\n",
       "      <th>LONGITUDE</th>\n",
       "      <th>Season</th>\n",
       "      <th>SQI</th>\n",
       "      <th>Label</th>\n",
       "    </tr>\n",
       "  </thead>\n",
       "  <tbody>\n",
       "    <tr>\n",
       "      <th>355</th>\n",
       "      <td>356</td>\n",
       "      <td>26.931202</td>\n",
       "      <td>93.735914</td>\n",
       "      <td>Rabi</td>\n",
       "      <td>0.497533</td>\n",
       "      <td>Rabi_vegetables</td>\n",
       "    </tr>\n",
       "    <tr>\n",
       "      <th>356</th>\n",
       "      <td>357</td>\n",
       "      <td>26.861800</td>\n",
       "      <td>93.626930</td>\n",
       "      <td>Kharif</td>\n",
       "      <td>0.501631</td>\n",
       "      <td>Rice</td>\n",
       "    </tr>\n",
       "    <tr>\n",
       "      <th>357</th>\n",
       "      <td>358</td>\n",
       "      <td>26.861800</td>\n",
       "      <td>93.626930</td>\n",
       "      <td>Rabi</td>\n",
       "      <td>0.501631</td>\n",
       "      <td>Rabi_vegetables</td>\n",
       "    </tr>\n",
       "    <tr>\n",
       "      <th>358</th>\n",
       "      <td>359</td>\n",
       "      <td>26.825983</td>\n",
       "      <td>93.641407</td>\n",
       "      <td>Kharif</td>\n",
       "      <td>0.526805</td>\n",
       "      <td>Rice</td>\n",
       "    </tr>\n",
       "    <tr>\n",
       "      <th>359</th>\n",
       "      <td>360</td>\n",
       "      <td>26.825983</td>\n",
       "      <td>93.641407</td>\n",
       "      <td>Rabi</td>\n",
       "      <td>0.526805</td>\n",
       "      <td>Rabi_vegetables</td>\n",
       "    </tr>\n",
       "  </tbody>\n",
       "</table>\n",
       "</div>"
      ],
      "text/plain": [
       "     SAMPLE   LATITUTE  LONGITUDE  Season       SQI            Label\n",
       "355     356  26.931202  93.735914    Rabi  0.497533  Rabi_vegetables\n",
       "356     357  26.861800  93.626930  Kharif  0.501631             Rice\n",
       "357     358  26.861800  93.626930    Rabi  0.501631  Rabi_vegetables\n",
       "358     359  26.825983  93.641407  Kharif  0.526805             Rice\n",
       "359     360  26.825983  93.641407    Rabi  0.526805  Rabi_vegetables"
      ]
     },
     "execution_count": 50,
     "metadata": {},
     "output_type": "execute_result"
    }
   ],
   "source": [
    "df_recommended.tail()"
   ]
  },
  {
   "cell_type": "code",
   "execution_count": 51,
   "id": "780507cc",
   "metadata": {},
   "outputs": [
    {
     "data": {
      "text/plain": [
       "Index(['SAMPLE', 'LATITUTE', 'LONGITUDE', 'Season', 'SQI', 'Label'], dtype='object')"
      ]
     },
     "execution_count": 51,
     "metadata": {},
     "output_type": "execute_result"
    }
   ],
   "source": [
    "df_recommended.columns"
   ]
  },
  {
   "cell_type": "code",
   "execution_count": 52,
   "id": "d1a02c37",
   "metadata": {},
   "outputs": [
    {
     "data": {
      "text/plain": [
       "0"
      ]
     },
     "execution_count": 52,
     "metadata": {},
     "output_type": "execute_result"
    }
   ],
   "source": [
    "df_recommended.duplicated().sum()"
   ]
  },
  {
   "cell_type": "code",
   "execution_count": 53,
   "id": "bfd14c21",
   "metadata": {},
   "outputs": [
    {
     "data": {
      "text/plain": [
       "SAMPLE       0\n",
       "LATITUTE     0\n",
       "LONGITUDE    0\n",
       "Season       0\n",
       "SQI          0\n",
       "Label        0\n",
       "dtype: int64"
      ]
     },
     "execution_count": 53,
     "metadata": {},
     "output_type": "execute_result"
    }
   ],
   "source": [
    "df_recommended.isnull().sum()"
   ]
  },
  {
   "cell_type": "code",
   "execution_count": 54,
   "id": "291e5199",
   "metadata": {},
   "outputs": [
    {
     "name": "stdout",
     "output_type": "stream",
     "text": [
      "<class 'pandas.core.frame.DataFrame'>\n",
      "RangeIndex: 360 entries, 0 to 359\n",
      "Data columns (total 6 columns):\n",
      " #   Column     Non-Null Count  Dtype  \n",
      "---  ------     --------------  -----  \n",
      " 0   SAMPLE     360 non-null    int64  \n",
      " 1   LATITUTE   360 non-null    float64\n",
      " 2   LONGITUDE  360 non-null    float64\n",
      " 3   Season     360 non-null    object \n",
      " 4   SQI        360 non-null    float64\n",
      " 5   Label      360 non-null    object \n",
      "dtypes: float64(3), int64(1), object(2)\n",
      "memory usage: 17.0+ KB\n"
     ]
    }
   ],
   "source": [
    "df_recommended.info()"
   ]
  },
  {
   "cell_type": "code",
   "execution_count": 55,
   "id": "b1967b90",
   "metadata": {},
   "outputs": [
    {
     "data": {
      "text/html": [
       "<div>\n",
       "<style scoped>\n",
       "    .dataframe tbody tr th:only-of-type {\n",
       "        vertical-align: middle;\n",
       "    }\n",
       "\n",
       "    .dataframe tbody tr th {\n",
       "        vertical-align: top;\n",
       "    }\n",
       "\n",
       "    .dataframe thead th {\n",
       "        text-align: right;\n",
       "    }\n",
       "</style>\n",
       "<table border=\"1\" class=\"dataframe\">\n",
       "  <thead>\n",
       "    <tr style=\"text-align: right;\">\n",
       "      <th></th>\n",
       "      <th>SAMPLE</th>\n",
       "      <th>LATITUTE</th>\n",
       "      <th>LONGITUDE</th>\n",
       "      <th>SQI</th>\n",
       "    </tr>\n",
       "  </thead>\n",
       "  <tbody>\n",
       "    <tr>\n",
       "      <th>count</th>\n",
       "      <td>360.000000</td>\n",
       "      <td>360.000000</td>\n",
       "      <td>360.000000</td>\n",
       "      <td>360.000000</td>\n",
       "    </tr>\n",
       "    <tr>\n",
       "      <th>mean</th>\n",
       "      <td>180.500000</td>\n",
       "      <td>26.850908</td>\n",
       "      <td>93.456844</td>\n",
       "      <td>0.620505</td>\n",
       "    </tr>\n",
       "    <tr>\n",
       "      <th>std</th>\n",
       "      <td>104.067286</td>\n",
       "      <td>0.060338</td>\n",
       "      <td>0.209068</td>\n",
       "      <td>0.092878</td>\n",
       "    </tr>\n",
       "    <tr>\n",
       "      <th>min</th>\n",
       "      <td>1.000000</td>\n",
       "      <td>26.680916</td>\n",
       "      <td>93.067830</td>\n",
       "      <td>0.486181</td>\n",
       "    </tr>\n",
       "    <tr>\n",
       "      <th>25%</th>\n",
       "      <td>90.750000</td>\n",
       "      <td>26.813133</td>\n",
       "      <td>93.232862</td>\n",
       "      <td>0.550000</td>\n",
       "    </tr>\n",
       "    <tr>\n",
       "      <th>50%</th>\n",
       "      <td>180.500000</td>\n",
       "      <td>26.852389</td>\n",
       "      <td>93.533057</td>\n",
       "      <td>0.600000</td>\n",
       "    </tr>\n",
       "    <tr>\n",
       "      <th>75%</th>\n",
       "      <td>270.250000</td>\n",
       "      <td>26.892377</td>\n",
       "      <td>93.634057</td>\n",
       "      <td>0.660000</td>\n",
       "    </tr>\n",
       "    <tr>\n",
       "      <th>max</th>\n",
       "      <td>360.000000</td>\n",
       "      <td>26.967178</td>\n",
       "      <td>93.768739</td>\n",
       "      <td>0.870000</td>\n",
       "    </tr>\n",
       "  </tbody>\n",
       "</table>\n",
       "</div>"
      ],
      "text/plain": [
       "           SAMPLE    LATITUTE   LONGITUDE         SQI\n",
       "count  360.000000  360.000000  360.000000  360.000000\n",
       "mean   180.500000   26.850908   93.456844    0.620505\n",
       "std    104.067286    0.060338    0.209068    0.092878\n",
       "min      1.000000   26.680916   93.067830    0.486181\n",
       "25%     90.750000   26.813133   93.232862    0.550000\n",
       "50%    180.500000   26.852389   93.533057    0.600000\n",
       "75%    270.250000   26.892377   93.634057    0.660000\n",
       "max    360.000000   26.967178   93.768739    0.870000"
      ]
     },
     "execution_count": 55,
     "metadata": {},
     "output_type": "execute_result"
    }
   ],
   "source": [
    "df_recommended.describe()"
   ]
  },
  {
   "cell_type": "code",
   "execution_count": 56,
   "id": "bb6933e1",
   "metadata": {},
   "outputs": [
    {
     "data": {
      "text/plain": [
       "SAMPLE       360\n",
       "LATITUTE     168\n",
       "LONGITUDE    167\n",
       "Season         2\n",
       "SQI           82\n",
       "Label          6\n",
       "dtype: int64"
      ]
     },
     "execution_count": 56,
     "metadata": {},
     "output_type": "execute_result"
    }
   ],
   "source": [
    "df_recommended.nunique()"
   ]
  },
  {
   "cell_type": "code",
   "execution_count": 57,
   "id": "b8663793",
   "metadata": {},
   "outputs": [
    {
     "data": {
      "text/plain": [
       "array(['Rice', 'Fallow', 'Potato', 'Rapseed', 'Blackgram',\n",
       "       'Rabi_vegetables'], dtype=object)"
      ]
     },
     "execution_count": 57,
     "metadata": {},
     "output_type": "execute_result"
    }
   ],
   "source": [
    "df_recommended['Label'].unique()"
   ]
  },
  {
   "cell_type": "code",
   "execution_count": 58,
   "id": "b2aa1c77",
   "metadata": {},
   "outputs": [
    {
     "data": {
      "text/plain": [
       "Rice               160\n",
       "Fallow             145\n",
       "Rabi_vegetables     20\n",
       "Potato              15\n",
       "Rapseed             11\n",
       "Blackgram            9\n",
       "Name: Label, dtype: int64"
      ]
     },
     "execution_count": 58,
     "metadata": {},
     "output_type": "execute_result"
    }
   ],
   "source": [
    "df_recommended['Label'].value_counts()"
   ]
  },
  {
   "cell_type": "code",
   "execution_count": 59,
   "id": "acc28955",
   "metadata": {},
   "outputs": [],
   "source": [
    "df_recommended=df_recommended[~df_recommended['Label'].isin(['Fallow'])]"
   ]
  },
  {
   "cell_type": "code",
   "execution_count": 60,
   "id": "425e5a77",
   "metadata": {},
   "outputs": [
    {
     "data": {
      "text/plain": [
       "(215, 6)"
      ]
     },
     "execution_count": 60,
     "metadata": {},
     "output_type": "execute_result"
    }
   ],
   "source": [
    "df_recommended.shape"
   ]
  },
  {
   "cell_type": "code",
   "execution_count": 61,
   "id": "a1858fb8",
   "metadata": {},
   "outputs": [],
   "source": [
    "crop_summary =pd.pivot_table(df_recommended, index=['Label'], aggfunc='mean')"
   ]
  },
  {
   "cell_type": "code",
   "execution_count": 62,
   "id": "f9162902",
   "metadata": {},
   "outputs": [
    {
     "data": {
      "text/html": [
       "<div>\n",
       "<style scoped>\n",
       "    .dataframe tbody tr th:only-of-type {\n",
       "        vertical-align: middle;\n",
       "    }\n",
       "\n",
       "    .dataframe tbody tr th {\n",
       "        vertical-align: top;\n",
       "    }\n",
       "\n",
       "    .dataframe thead th {\n",
       "        text-align: right;\n",
       "    }\n",
       "</style>\n",
       "<table border=\"1\" class=\"dataframe\">\n",
       "  <thead>\n",
       "    <tr style=\"text-align: right;\">\n",
       "      <th></th>\n",
       "      <th>LATITUTE</th>\n",
       "      <th>LONGITUDE</th>\n",
       "      <th>SAMPLE</th>\n",
       "      <th>SQI</th>\n",
       "    </tr>\n",
       "    <tr>\n",
       "      <th>Label</th>\n",
       "      <th></th>\n",
       "      <th></th>\n",
       "      <th></th>\n",
       "      <th></th>\n",
       "    </tr>\n",
       "  </thead>\n",
       "  <tbody>\n",
       "    <tr>\n",
       "      <th>Blackgram</th>\n",
       "      <td>26.844390</td>\n",
       "      <td>93.543532</td>\n",
       "      <td>190.00</td>\n",
       "      <td>0.601111</td>\n",
       "    </tr>\n",
       "    <tr>\n",
       "      <th>Potato</th>\n",
       "      <td>26.845375</td>\n",
       "      <td>93.320661</td>\n",
       "      <td>106.00</td>\n",
       "      <td>0.657333</td>\n",
       "    </tr>\n",
       "    <tr>\n",
       "      <th>Rabi_vegetables</th>\n",
       "      <td>26.904894</td>\n",
       "      <td>93.688485</td>\n",
       "      <td>341.00</td>\n",
       "      <td>0.560937</td>\n",
       "    </tr>\n",
       "    <tr>\n",
       "      <th>Rapseed</th>\n",
       "      <td>26.840890</td>\n",
       "      <td>93.526584</td>\n",
       "      <td>170.00</td>\n",
       "      <td>0.607273</td>\n",
       "    </tr>\n",
       "    <tr>\n",
       "      <th>Rice</th>\n",
       "      <td>26.851964</td>\n",
       "      <td>93.447174</td>\n",
       "      <td>180.25</td>\n",
       "      <td>0.622506</td>\n",
       "    </tr>\n",
       "  </tbody>\n",
       "</table>\n",
       "</div>"
      ],
      "text/plain": [
       "                  LATITUTE  LONGITUDE  SAMPLE       SQI\n",
       "Label                                                  \n",
       "Blackgram        26.844390  93.543532  190.00  0.601111\n",
       "Potato           26.845375  93.320661  106.00  0.657333\n",
       "Rabi_vegetables  26.904894  93.688485  341.00  0.560937\n",
       "Rapseed          26.840890  93.526584  170.00  0.607273\n",
       "Rice             26.851964  93.447174  180.25  0.622506"
      ]
     },
     "execution_count": 62,
     "metadata": {},
     "output_type": "execute_result"
    }
   ],
   "source": [
    "crop_summary"
   ]
  },
  {
   "cell_type": "code",
   "execution_count": 63,
   "id": "bcfa9543",
   "metadata": {},
   "outputs": [],
   "source": [
    "df_recommended.drop(['SAMPLE','LATITUTE','LONGITUDE'], axis=1, inplace=True)"
   ]
  },
  {
   "cell_type": "code",
   "execution_count": 64,
   "id": "729c501a",
   "metadata": {},
   "outputs": [
    {
     "data": {
      "text/html": [
       "<div>\n",
       "<style scoped>\n",
       "    .dataframe tbody tr th:only-of-type {\n",
       "        vertical-align: middle;\n",
       "    }\n",
       "\n",
       "    .dataframe tbody tr th {\n",
       "        vertical-align: top;\n",
       "    }\n",
       "\n",
       "    .dataframe thead th {\n",
       "        text-align: right;\n",
       "    }\n",
       "</style>\n",
       "<table border=\"1\" class=\"dataframe\">\n",
       "  <thead>\n",
       "    <tr style=\"text-align: right;\">\n",
       "      <th></th>\n",
       "      <th>Season</th>\n",
       "      <th>SQI</th>\n",
       "      <th>Label</th>\n",
       "    </tr>\n",
       "  </thead>\n",
       "  <tbody>\n",
       "    <tr>\n",
       "      <th>0</th>\n",
       "      <td>Kharif</td>\n",
       "      <td>0.77</td>\n",
       "      <td>Rice</td>\n",
       "    </tr>\n",
       "    <tr>\n",
       "      <th>2</th>\n",
       "      <td>Kharif</td>\n",
       "      <td>0.84</td>\n",
       "      <td>Rice</td>\n",
       "    </tr>\n",
       "    <tr>\n",
       "      <th>4</th>\n",
       "      <td>Kharif</td>\n",
       "      <td>0.85</td>\n",
       "      <td>Rice</td>\n",
       "    </tr>\n",
       "    <tr>\n",
       "      <th>6</th>\n",
       "      <td>Kharif</td>\n",
       "      <td>0.80</td>\n",
       "      <td>Rice</td>\n",
       "    </tr>\n",
       "    <tr>\n",
       "      <th>8</th>\n",
       "      <td>Kharif</td>\n",
       "      <td>0.81</td>\n",
       "      <td>Rice</td>\n",
       "    </tr>\n",
       "  </tbody>\n",
       "</table>\n",
       "</div>"
      ],
      "text/plain": [
       "   Season   SQI Label\n",
       "0  Kharif  0.77  Rice\n",
       "2  Kharif  0.84  Rice\n",
       "4  Kharif  0.85  Rice\n",
       "6  Kharif  0.80  Rice\n",
       "8  Kharif  0.81  Rice"
      ]
     },
     "execution_count": 64,
     "metadata": {},
     "output_type": "execute_result"
    }
   ],
   "source": [
    "df_recommended.head()"
   ]
  },
  {
   "cell_type": "code",
   "execution_count": 65,
   "id": "a8dea82d",
   "metadata": {},
   "outputs": [],
   "source": [
    "df_recommended_encoded = pd.get_dummies(df_recommended, columns = ['Season'])"
   ]
  },
  {
   "cell_type": "code",
   "execution_count": 66,
   "id": "291739b6",
   "metadata": {},
   "outputs": [
    {
     "data": {
      "text/html": [
       "<div>\n",
       "<style scoped>\n",
       "    .dataframe tbody tr th:only-of-type {\n",
       "        vertical-align: middle;\n",
       "    }\n",
       "\n",
       "    .dataframe tbody tr th {\n",
       "        vertical-align: top;\n",
       "    }\n",
       "\n",
       "    .dataframe thead th {\n",
       "        text-align: right;\n",
       "    }\n",
       "</style>\n",
       "<table border=\"1\" class=\"dataframe\">\n",
       "  <thead>\n",
       "    <tr style=\"text-align: right;\">\n",
       "      <th></th>\n",
       "      <th>SQI</th>\n",
       "      <th>Label</th>\n",
       "      <th>Season_Kharif</th>\n",
       "      <th>Season_Rabi</th>\n",
       "    </tr>\n",
       "  </thead>\n",
       "  <tbody>\n",
       "    <tr>\n",
       "      <th>0</th>\n",
       "      <td>0.77</td>\n",
       "      <td>Rice</td>\n",
       "      <td>1</td>\n",
       "      <td>0</td>\n",
       "    </tr>\n",
       "    <tr>\n",
       "      <th>2</th>\n",
       "      <td>0.84</td>\n",
       "      <td>Rice</td>\n",
       "      <td>1</td>\n",
       "      <td>0</td>\n",
       "    </tr>\n",
       "    <tr>\n",
       "      <th>4</th>\n",
       "      <td>0.85</td>\n",
       "      <td>Rice</td>\n",
       "      <td>1</td>\n",
       "      <td>0</td>\n",
       "    </tr>\n",
       "    <tr>\n",
       "      <th>6</th>\n",
       "      <td>0.80</td>\n",
       "      <td>Rice</td>\n",
       "      <td>1</td>\n",
       "      <td>0</td>\n",
       "    </tr>\n",
       "    <tr>\n",
       "      <th>8</th>\n",
       "      <td>0.81</td>\n",
       "      <td>Rice</td>\n",
       "      <td>1</td>\n",
       "      <td>0</td>\n",
       "    </tr>\n",
       "  </tbody>\n",
       "</table>\n",
       "</div>"
      ],
      "text/plain": [
       "    SQI Label  Season_Kharif  Season_Rabi\n",
       "0  0.77  Rice              1            0\n",
       "2  0.84  Rice              1            0\n",
       "4  0.85  Rice              1            0\n",
       "6  0.80  Rice              1            0\n",
       "8  0.81  Rice              1            0"
      ]
     },
     "execution_count": 66,
     "metadata": {},
     "output_type": "execute_result"
    }
   ],
   "source": [
    "df_recommended_encoded.head()"
   ]
  },
  {
   "cell_type": "code",
   "execution_count": 67,
   "id": "d33fa917",
   "metadata": {},
   "outputs": [],
   "source": [
    "df_recommended_encoded.to_excel(\"Cropping_System_final_Model.xlsx\")"
   ]
  }
 ],
 "metadata": {
  "kernelspec": {
   "display_name": "Python 3 (ipykernel)",
   "language": "python",
   "name": "python3"
  },
  "language_info": {
   "codemirror_mode": {
    "name": "ipython",
    "version": 3
   },
   "file_extension": ".py",
   "mimetype": "text/x-python",
   "name": "python",
   "nbconvert_exporter": "python",
   "pygments_lexer": "ipython3",
   "version": "3.9.12"
  }
 },
 "nbformat": 4,
 "nbformat_minor": 5
}
