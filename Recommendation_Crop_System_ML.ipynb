{
 "cells": [
  {
   "cell_type": "code",
   "execution_count": 118,
   "id": "572e380b",
   "metadata": {},
   "outputs": [],
   "source": [
    "import IPython\n",
    "import pandas as pd\n",
    "import numpy as np\n",
    "import matplotlib.pyplot as plt\n",
    "%matplotlib inline\n",
    "import seaborn as sns\n",
    "from IPython import get_ipython\n",
    "import warnings\n",
    "warnings.filterwarnings('ignore')\n",
    "import plotly.express as px\n",
    "import plotly.graph_objects as go\n",
    "from plotly.subplots import make_subplots\n",
    "\n",
    "#LGBM Model\n",
    "import lightgbm as lgb\n",
    "\n",
    "#Sklearn\n",
    "from sklearn.model_selection import train_test_split\n",
    "from sklearn.metrics import accuracy_score,confusion_matrix, classification_report\n",
    "from sklearn.tree import DecisionTreeClassifier\n",
    "from sklearn.linear_model import LogisticRegression\n"
   ]
  },
  {
   "cell_type": "code",
   "execution_count": 47,
   "id": "f505815d",
   "metadata": {},
   "outputs": [],
   "source": [
    "df_recommended= pd.read_excel('Cropping_System.xlsx')"
   ]
  },
  {
   "cell_type": "code",
   "execution_count": 48,
   "id": "909b304f",
   "metadata": {},
   "outputs": [
    {
     "data": {
      "text/plain": [
       "(360, 7)"
      ]
     },
     "execution_count": 48,
     "metadata": {},
     "output_type": "execute_result"
    }
   ],
   "source": [
    "df_recommended.shape"
   ]
  },
  {
   "cell_type": "code",
   "execution_count": 49,
   "id": "807b3fb9",
   "metadata": {},
   "outputs": [
    {
     "data": {
      "text/html": [
       "<div>\n",
       "<style scoped>\n",
       "    .dataframe tbody tr th:only-of-type {\n",
       "        vertical-align: middle;\n",
       "    }\n",
       "\n",
       "    .dataframe tbody tr th {\n",
       "        vertical-align: top;\n",
       "    }\n",
       "\n",
       "    .dataframe thead th {\n",
       "        text-align: right;\n",
       "    }\n",
       "</style>\n",
       "<table border=\"1\" class=\"dataframe\">\n",
       "  <thead>\n",
       "    <tr style=\"text-align: right;\">\n",
       "      <th></th>\n",
       "      <th>SAMPLE</th>\n",
       "      <th>LATITUTE</th>\n",
       "      <th>LONGITUDE</th>\n",
       "      <th>Season</th>\n",
       "      <th>SQI</th>\n",
       "      <th>TEXTURAL CLASS</th>\n",
       "      <th>Label</th>\n",
       "    </tr>\n",
       "  </thead>\n",
       "  <tbody>\n",
       "    <tr>\n",
       "      <th>0</th>\n",
       "      <td>1</td>\n",
       "      <td>26.733005</td>\n",
       "      <td>93.077304</td>\n",
       "      <td>Kharif</td>\n",
       "      <td>0.77</td>\n",
       "      <td>Clay loam</td>\n",
       "      <td>Rice</td>\n",
       "    </tr>\n",
       "    <tr>\n",
       "      <th>1</th>\n",
       "      <td>2</td>\n",
       "      <td>26.733005</td>\n",
       "      <td>93.077304</td>\n",
       "      <td>Rabi</td>\n",
       "      <td>0.77</td>\n",
       "      <td>Clay loam</td>\n",
       "      <td>Fallow</td>\n",
       "    </tr>\n",
       "    <tr>\n",
       "      <th>2</th>\n",
       "      <td>3</td>\n",
       "      <td>26.715920</td>\n",
       "      <td>93.088185</td>\n",
       "      <td>Kharif</td>\n",
       "      <td>0.84</td>\n",
       "      <td>Clay loam</td>\n",
       "      <td>Rice</td>\n",
       "    </tr>\n",
       "    <tr>\n",
       "      <th>3</th>\n",
       "      <td>4</td>\n",
       "      <td>26.715920</td>\n",
       "      <td>93.088185</td>\n",
       "      <td>Rabi</td>\n",
       "      <td>0.84</td>\n",
       "      <td>Clay loam</td>\n",
       "      <td>Fallow</td>\n",
       "    </tr>\n",
       "    <tr>\n",
       "      <th>4</th>\n",
       "      <td>5</td>\n",
       "      <td>26.711278</td>\n",
       "      <td>93.103950</td>\n",
       "      <td>Kharif</td>\n",
       "      <td>0.85</td>\n",
       "      <td>Clay loam</td>\n",
       "      <td>Rice</td>\n",
       "    </tr>\n",
       "  </tbody>\n",
       "</table>\n",
       "</div>"
      ],
      "text/plain": [
       "   SAMPLE   LATITUTE  LONGITUDE  Season   SQI TEXTURAL CLASS   Label\n",
       "0       1  26.733005  93.077304  Kharif  0.77      Clay loam    Rice\n",
       "1       2  26.733005  93.077304    Rabi  0.77      Clay loam  Fallow\n",
       "2       3  26.715920  93.088185  Kharif  0.84      Clay loam    Rice\n",
       "3       4  26.715920  93.088185    Rabi  0.84      Clay loam  Fallow\n",
       "4       5  26.711278  93.103950  Kharif  0.85      Clay loam    Rice"
      ]
     },
     "execution_count": 49,
     "metadata": {},
     "output_type": "execute_result"
    }
   ],
   "source": [
    "df_recommended.head()"
   ]
  },
  {
   "cell_type": "code",
   "execution_count": 50,
   "id": "7bf420e0",
   "metadata": {},
   "outputs": [
    {
     "data": {
      "text/html": [
       "<div>\n",
       "<style scoped>\n",
       "    .dataframe tbody tr th:only-of-type {\n",
       "        vertical-align: middle;\n",
       "    }\n",
       "\n",
       "    .dataframe tbody tr th {\n",
       "        vertical-align: top;\n",
       "    }\n",
       "\n",
       "    .dataframe thead th {\n",
       "        text-align: right;\n",
       "    }\n",
       "</style>\n",
       "<table border=\"1\" class=\"dataframe\">\n",
       "  <thead>\n",
       "    <tr style=\"text-align: right;\">\n",
       "      <th></th>\n",
       "      <th>SAMPLE</th>\n",
       "      <th>LATITUTE</th>\n",
       "      <th>LONGITUDE</th>\n",
       "      <th>Season</th>\n",
       "      <th>SQI</th>\n",
       "      <th>TEXTURAL CLASS</th>\n",
       "      <th>Label</th>\n",
       "    </tr>\n",
       "  </thead>\n",
       "  <tbody>\n",
       "    <tr>\n",
       "      <th>355</th>\n",
       "      <td>356</td>\n",
       "      <td>26.931202</td>\n",
       "      <td>93.735914</td>\n",
       "      <td>Rabi</td>\n",
       "      <td>0.497533</td>\n",
       "      <td>Sandy loam</td>\n",
       "      <td>Rabi_vegetables</td>\n",
       "    </tr>\n",
       "    <tr>\n",
       "      <th>356</th>\n",
       "      <td>357</td>\n",
       "      <td>26.861800</td>\n",
       "      <td>93.626930</td>\n",
       "      <td>Kharif</td>\n",
       "      <td>0.501631</td>\n",
       "      <td>Sandy loam</td>\n",
       "      <td>Rice</td>\n",
       "    </tr>\n",
       "    <tr>\n",
       "      <th>357</th>\n",
       "      <td>358</td>\n",
       "      <td>26.861800</td>\n",
       "      <td>93.626930</td>\n",
       "      <td>Rabi</td>\n",
       "      <td>0.501631</td>\n",
       "      <td>Sandy loam</td>\n",
       "      <td>Rabi_vegetables</td>\n",
       "    </tr>\n",
       "    <tr>\n",
       "      <th>358</th>\n",
       "      <td>359</td>\n",
       "      <td>26.859667</td>\n",
       "      <td>93.620315</td>\n",
       "      <td>Kharif</td>\n",
       "      <td>0.526805</td>\n",
       "      <td>Sandy loam</td>\n",
       "      <td>Rice</td>\n",
       "    </tr>\n",
       "    <tr>\n",
       "      <th>359</th>\n",
       "      <td>360</td>\n",
       "      <td>26.859667</td>\n",
       "      <td>93.620315</td>\n",
       "      <td>Rabi</td>\n",
       "      <td>0.526805</td>\n",
       "      <td>Sandy loam</td>\n",
       "      <td>Rabi_vegetables</td>\n",
       "    </tr>\n",
       "  </tbody>\n",
       "</table>\n",
       "</div>"
      ],
      "text/plain": [
       "     SAMPLE   LATITUTE  LONGITUDE  Season       SQI TEXTURAL CLASS  \\\n",
       "355     356  26.931202  93.735914    Rabi  0.497533     Sandy loam   \n",
       "356     357  26.861800  93.626930  Kharif  0.501631     Sandy loam   \n",
       "357     358  26.861800  93.626930    Rabi  0.501631     Sandy loam   \n",
       "358     359  26.859667  93.620315  Kharif  0.526805     Sandy loam   \n",
       "359     360  26.859667  93.620315    Rabi  0.526805     Sandy loam   \n",
       "\n",
       "               Label  \n",
       "355  Rabi_vegetables  \n",
       "356             Rice  \n",
       "357  Rabi_vegetables  \n",
       "358             Rice  \n",
       "359  Rabi_vegetables  "
      ]
     },
     "execution_count": 50,
     "metadata": {},
     "output_type": "execute_result"
    }
   ],
   "source": [
    "df_recommended.tail()"
   ]
  },
  {
   "cell_type": "code",
   "execution_count": 51,
   "id": "780507cc",
   "metadata": {},
   "outputs": [
    {
     "data": {
      "text/plain": [
       "Index(['SAMPLE', 'LATITUTE', 'LONGITUDE', 'Season', 'SQI', 'TEXTURAL CLASS',\n",
       "       'Label'],\n",
       "      dtype='object')"
      ]
     },
     "execution_count": 51,
     "metadata": {},
     "output_type": "execute_result"
    }
   ],
   "source": [
    "df_recommended.columns"
   ]
  },
  {
   "cell_type": "code",
   "execution_count": 52,
   "id": "d1a02c37",
   "metadata": {},
   "outputs": [
    {
     "data": {
      "text/plain": [
       "0"
      ]
     },
     "execution_count": 52,
     "metadata": {},
     "output_type": "execute_result"
    }
   ],
   "source": [
    "df_recommended.duplicated().sum()"
   ]
  },
  {
   "cell_type": "code",
   "execution_count": 53,
   "id": "bfd14c21",
   "metadata": {},
   "outputs": [
    {
     "data": {
      "text/plain": [
       "SAMPLE            0\n",
       "LATITUTE          0\n",
       "LONGITUDE         0\n",
       "Season            0\n",
       "SQI               0\n",
       "TEXTURAL CLASS    0\n",
       "Label             0\n",
       "dtype: int64"
      ]
     },
     "execution_count": 53,
     "metadata": {},
     "output_type": "execute_result"
    }
   ],
   "source": [
    "df_recommended.isnull().sum()"
   ]
  },
  {
   "cell_type": "code",
   "execution_count": 54,
   "id": "291e5199",
   "metadata": {},
   "outputs": [
    {
     "name": "stdout",
     "output_type": "stream",
     "text": [
      "<class 'pandas.core.frame.DataFrame'>\n",
      "RangeIndex: 360 entries, 0 to 359\n",
      "Data columns (total 7 columns):\n",
      " #   Column          Non-Null Count  Dtype  \n",
      "---  ------          --------------  -----  \n",
      " 0   SAMPLE          360 non-null    int64  \n",
      " 1   LATITUTE        360 non-null    float64\n",
      " 2   LONGITUDE       360 non-null    float64\n",
      " 3   Season          360 non-null    object \n",
      " 4   SQI             360 non-null    float64\n",
      " 5   TEXTURAL CLASS  360 non-null    object \n",
      " 6   Label           360 non-null    object \n",
      "dtypes: float64(3), int64(1), object(3)\n",
      "memory usage: 19.8+ KB\n"
     ]
    }
   ],
   "source": [
    "df_recommended.info()"
   ]
  },
  {
   "cell_type": "code",
   "execution_count": 55,
   "id": "b1967b90",
   "metadata": {},
   "outputs": [
    {
     "data": {
      "text/html": [
       "<div>\n",
       "<style scoped>\n",
       "    .dataframe tbody tr th:only-of-type {\n",
       "        vertical-align: middle;\n",
       "    }\n",
       "\n",
       "    .dataframe tbody tr th {\n",
       "        vertical-align: top;\n",
       "    }\n",
       "\n",
       "    .dataframe thead th {\n",
       "        text-align: right;\n",
       "    }\n",
       "</style>\n",
       "<table border=\"1\" class=\"dataframe\">\n",
       "  <thead>\n",
       "    <tr style=\"text-align: right;\">\n",
       "      <th></th>\n",
       "      <th>SAMPLE</th>\n",
       "      <th>LATITUTE</th>\n",
       "      <th>LONGITUDE</th>\n",
       "      <th>SQI</th>\n",
       "    </tr>\n",
       "  </thead>\n",
       "  <tbody>\n",
       "    <tr>\n",
       "      <th>count</th>\n",
       "      <td>360.000000</td>\n",
       "      <td>360.000000</td>\n",
       "      <td>360.000000</td>\n",
       "      <td>360.000000</td>\n",
       "    </tr>\n",
       "    <tr>\n",
       "      <th>mean</th>\n",
       "      <td>180.500000</td>\n",
       "      <td>26.854288</td>\n",
       "      <td>93.455423</td>\n",
       "      <td>0.620505</td>\n",
       "    </tr>\n",
       "    <tr>\n",
       "      <th>std</th>\n",
       "      <td>104.067286</td>\n",
       "      <td>0.057695</td>\n",
       "      <td>0.203724</td>\n",
       "      <td>0.092878</td>\n",
       "    </tr>\n",
       "    <tr>\n",
       "      <th>min</th>\n",
       "      <td>1.000000</td>\n",
       "      <td>26.711278</td>\n",
       "      <td>93.067830</td>\n",
       "      <td>0.486181</td>\n",
       "    </tr>\n",
       "    <tr>\n",
       "      <th>25%</th>\n",
       "      <td>90.750000</td>\n",
       "      <td>26.819475</td>\n",
       "      <td>93.232862</td>\n",
       "      <td>0.550000</td>\n",
       "    </tr>\n",
       "    <tr>\n",
       "      <th>50%</th>\n",
       "      <td>180.500000</td>\n",
       "      <td>26.861470</td>\n",
       "      <td>93.537795</td>\n",
       "      <td>0.600000</td>\n",
       "    </tr>\n",
       "    <tr>\n",
       "      <th>75%</th>\n",
       "      <td>270.250000</td>\n",
       "      <td>26.896276</td>\n",
       "      <td>93.629217</td>\n",
       "      <td>0.660000</td>\n",
       "    </tr>\n",
       "    <tr>\n",
       "      <th>max</th>\n",
       "      <td>360.000000</td>\n",
       "      <td>26.953972</td>\n",
       "      <td>93.735914</td>\n",
       "      <td>0.870000</td>\n",
       "    </tr>\n",
       "  </tbody>\n",
       "</table>\n",
       "</div>"
      ],
      "text/plain": [
       "           SAMPLE    LATITUTE   LONGITUDE         SQI\n",
       "count  360.000000  360.000000  360.000000  360.000000\n",
       "mean   180.500000   26.854288   93.455423    0.620505\n",
       "std    104.067286    0.057695    0.203724    0.092878\n",
       "min      1.000000   26.711278   93.067830    0.486181\n",
       "25%     90.750000   26.819475   93.232862    0.550000\n",
       "50%    180.500000   26.861470   93.537795    0.600000\n",
       "75%    270.250000   26.896276   93.629217    0.660000\n",
       "max    360.000000   26.953972   93.735914    0.870000"
      ]
     },
     "execution_count": 55,
     "metadata": {},
     "output_type": "execute_result"
    }
   ],
   "source": [
    "df_recommended.describe()"
   ]
  },
  {
   "cell_type": "code",
   "execution_count": 56,
   "id": "bb6933e1",
   "metadata": {},
   "outputs": [
    {
     "data": {
      "text/plain": [
       "SAMPLE            360\n",
       "LATITUTE          162\n",
       "LONGITUDE         160\n",
       "Season              2\n",
       "SQI                82\n",
       "TEXTURAL CLASS      4\n",
       "Label               6\n",
       "dtype: int64"
      ]
     },
     "execution_count": 56,
     "metadata": {},
     "output_type": "execute_result"
    }
   ],
   "source": [
    "df_recommended.nunique()"
   ]
  },
  {
   "cell_type": "code",
   "execution_count": 57,
   "id": "b8663793",
   "metadata": {},
   "outputs": [
    {
     "data": {
      "text/plain": [
       "array(['Rice', 'Fallow', 'Potato', 'Rapseed', 'Blackgram',\n",
       "       'Rabi_vegetables'], dtype=object)"
      ]
     },
     "execution_count": 57,
     "metadata": {},
     "output_type": "execute_result"
    }
   ],
   "source": [
    "df_recommended['Label'].unique()"
   ]
  },
  {
   "cell_type": "code",
   "execution_count": 58,
   "id": "b2aa1c77",
   "metadata": {},
   "outputs": [
    {
     "data": {
      "text/plain": [
       "Rice               160\n",
       "Fallow             145\n",
       "Rabi_vegetables     20\n",
       "Potato              15\n",
       "Rapseed             11\n",
       "Blackgram            9\n",
       "Name: Label, dtype: int64"
      ]
     },
     "execution_count": 58,
     "metadata": {},
     "output_type": "execute_result"
    }
   ],
   "source": [
    "df_recommended['Label'].value_counts()"
   ]
  },
  {
   "cell_type": "code",
   "execution_count": 59,
   "id": "a1858fb8",
   "metadata": {},
   "outputs": [],
   "source": [
    "crop_summary =pd.pivot_table(df_recommended, index=['Label'], aggfunc='mean')"
   ]
  },
  {
   "cell_type": "code",
   "execution_count": 60,
   "id": "f9162902",
   "metadata": {},
   "outputs": [
    {
     "data": {
      "text/html": [
       "<div>\n",
       "<style scoped>\n",
       "    .dataframe tbody tr th:only-of-type {\n",
       "        vertical-align: middle;\n",
       "    }\n",
       "\n",
       "    .dataframe tbody tr th {\n",
       "        vertical-align: top;\n",
       "    }\n",
       "\n",
       "    .dataframe thead th {\n",
       "        text-align: right;\n",
       "    }\n",
       "</style>\n",
       "<table border=\"1\" class=\"dataframe\">\n",
       "  <thead>\n",
       "    <tr style=\"text-align: right;\">\n",
       "      <th></th>\n",
       "      <th>LATITUTE</th>\n",
       "      <th>LONGITUDE</th>\n",
       "      <th>SAMPLE</th>\n",
       "      <th>SQI</th>\n",
       "    </tr>\n",
       "    <tr>\n",
       "      <th>Label</th>\n",
       "      <th></th>\n",
       "      <th></th>\n",
       "      <th></th>\n",
       "      <th></th>\n",
       "    </tr>\n",
       "  </thead>\n",
       "  <tbody>\n",
       "    <tr>\n",
       "      <th>Blackgram</th>\n",
       "      <td>26.844390</td>\n",
       "      <td>93.543532</td>\n",
       "      <td>190.000000</td>\n",
       "      <td>0.601111</td>\n",
       "    </tr>\n",
       "    <tr>\n",
       "      <th>Fallow</th>\n",
       "      <td>26.847410</td>\n",
       "      <td>93.440232</td>\n",
       "      <td>166.551724</td>\n",
       "      <td>0.624912</td>\n",
       "    </tr>\n",
       "    <tr>\n",
       "      <th>Potato</th>\n",
       "      <td>26.844208</td>\n",
       "      <td>93.321618</td>\n",
       "      <td>106.000000</td>\n",
       "      <td>0.657333</td>\n",
       "    </tr>\n",
       "    <tr>\n",
       "      <th>Rabi_vegetables</th>\n",
       "      <td>26.911714</td>\n",
       "      <td>93.665912</td>\n",
       "      <td>341.000000</td>\n",
       "      <td>0.560937</td>\n",
       "    </tr>\n",
       "    <tr>\n",
       "      <th>Rapseed</th>\n",
       "      <td>26.840890</td>\n",
       "      <td>93.526584</td>\n",
       "      <td>170.000000</td>\n",
       "      <td>0.607273</td>\n",
       "    </tr>\n",
       "    <tr>\n",
       "      <th>Rice</th>\n",
       "      <td>26.855766</td>\n",
       "      <td>93.445574</td>\n",
       "      <td>180.250000</td>\n",
       "      <td>0.622506</td>\n",
       "    </tr>\n",
       "  </tbody>\n",
       "</table>\n",
       "</div>"
      ],
      "text/plain": [
       "                  LATITUTE  LONGITUDE      SAMPLE       SQI\n",
       "Label                                                      \n",
       "Blackgram        26.844390  93.543532  190.000000  0.601111\n",
       "Fallow           26.847410  93.440232  166.551724  0.624912\n",
       "Potato           26.844208  93.321618  106.000000  0.657333\n",
       "Rabi_vegetables  26.911714  93.665912  341.000000  0.560937\n",
       "Rapseed          26.840890  93.526584  170.000000  0.607273\n",
       "Rice             26.855766  93.445574  180.250000  0.622506"
      ]
     },
     "execution_count": 60,
     "metadata": {},
     "output_type": "execute_result"
    }
   ],
   "source": [
    "crop_summary"
   ]
  },
  {
   "cell_type": "code",
   "execution_count": 61,
   "id": "dfc5f422",
   "metadata": {},
   "outputs": [],
   "source": [
    "#Checking and treating outliers in each column"
   ]
  },
  {
   "cell_type": "code",
   "execution_count": 62,
   "id": "d0c7c015",
   "metadata": {},
   "outputs": [],
   "source": [
    "fig= px.box(df_recommended, y='SQI', points='all')"
   ]
  },
  {
   "cell_type": "code",
   "execution_count": 63,
   "id": "3ce36eeb",
   "metadata": {},
   "outputs": [
    {
     "data": {
      "application/vnd.plotly.v1+json": {
       "config": {
        "plotlyServerURL": "https://plot.ly"
       },
       "data": [
        {
         "alignmentgroup": "True",
         "boxpoints": "all",
         "hovertemplate": "SQI=%{y}<extra></extra>",
         "legendgroup": "",
         "marker": {
          "color": "#636efa"
         },
         "name": "",
         "notched": false,
         "offsetgroup": "",
         "orientation": "v",
         "showlegend": false,
         "type": "box",
         "x0": " ",
         "xaxis": "x",
         "y": [
          0.77,
          0.77,
          0.84,
          0.84,
          0.85,
          0.85,
          0.8,
          0.8,
          0.81,
          0.81,
          0.78,
          0.78,
          0.79,
          0.79,
          0.8,
          0.8,
          0.76,
          0.76,
          0.73,
          0.73,
          0.79,
          0.79,
          0.81,
          0.81,
          0.79,
          0.79,
          0.81,
          0.81,
          0.81,
          0.81,
          0.79,
          0.79,
          0.84,
          0.84,
          0.84,
          0.84,
          0.87,
          0.87,
          0.84,
          0.84,
          0.84,
          0.84,
          0.81,
          0.81,
          0.83,
          0.83,
          0.77,
          0.77,
          0.81,
          0.81,
          0.78,
          0.78,
          0.7,
          0.7,
          0.76,
          0.76,
          0.67,
          0.67,
          0.69,
          0.69,
          0.66,
          0.66,
          0.69,
          0.69,
          0.65,
          0.65,
          0.69,
          0.69,
          0.64,
          0.64,
          0.66,
          0.66,
          0.65,
          0.65,
          0.64,
          0.64,
          0.64,
          0.64,
          0.64,
          0.64,
          0.66,
          0.66,
          0.7,
          0.7,
          0.7,
          0.7,
          0.67,
          0.67,
          0.65,
          0.65,
          0.68,
          0.68,
          0.66,
          0.66,
          0.65,
          0.65,
          0.67,
          0.67,
          0.67,
          0.67,
          0.66,
          0.66,
          0.68,
          0.68,
          0.66,
          0.66,
          0.64,
          0.64,
          0.65,
          0.65,
          0.63,
          0.63,
          0.65,
          0.65,
          0.65,
          0.65,
          0.65,
          0.65,
          0.66,
          0.66,
          0.64,
          0.64,
          0.64,
          0.64,
          0.64,
          0.64,
          0.58,
          0.58,
          0.63,
          0.63,
          0.64,
          0.64,
          0.62,
          0.62,
          0.63,
          0.63,
          0.59,
          0.59,
          0.55,
          0.55,
          0.55,
          0.55,
          0.54,
          0.54,
          0.55,
          0.55,
          0.64,
          0.64,
          0.62,
          0.62,
          0.63,
          0.63,
          0.61,
          0.61,
          0.58,
          0.58,
          0.58,
          0.58,
          0.57,
          0.57,
          0.62,
          0.62,
          0.64,
          0.64,
          0.61,
          0.61,
          0.61,
          0.61,
          0.64,
          0.64,
          0.62,
          0.62,
          0.59,
          0.59,
          0.62,
          0.62,
          0.59,
          0.59,
          0.57,
          0.57,
          0.61,
          0.61,
          0.6,
          0.6,
          0.6,
          0.6,
          0.61,
          0.61,
          0.57,
          0.57,
          0.59,
          0.59,
          0.6,
          0.6,
          0.6,
          0.6,
          0.63,
          0.63,
          0.61,
          0.61,
          0.61,
          0.61,
          0.59,
          0.59,
          0.58,
          0.58,
          0.58,
          0.58,
          0.56,
          0.56,
          0.54,
          0.54,
          0.56,
          0.56,
          0.53,
          0.53,
          0.53,
          0.53,
          0.49,
          0.49,
          0.51,
          0.51,
          0.5,
          0.5,
          0.54,
          0.54,
          0.54,
          0.54,
          0.57,
          0.57,
          0.56,
          0.56,
          0.59,
          0.59,
          0.57,
          0.57,
          0.56,
          0.56,
          0.56,
          0.56,
          0.54,
          0.54,
          0.54,
          0.54,
          0.53,
          0.53,
          0.53,
          0.53,
          0.56,
          0.56,
          0.55,
          0.55,
          0.56,
          0.56,
          0.51,
          0.51,
          0.5,
          0.5,
          0.49,
          0.49,
          0.5292746718911038,
          0.5292746718911038,
          0.5673295863383314,
          0.5673295863383314,
          0.5469869388922042,
          0.5469869388922042,
          0.5517842686274317,
          0.5517842686274317,
          0.5294335204341897,
          0.5294335204341897,
          0.5120519167415206,
          0.5120519167415206,
          0.5163903964321814,
          0.5163903964321814,
          0.5490903952523043,
          0.5490903952523043,
          0.5374375298543723,
          0.5374375298543723,
          0.5390300609951898,
          0.5390300609951898,
          0.5345167228742377,
          0.5345167228742377,
          0.5181553051114338,
          0.5181553051114338,
          0.5200503038495287,
          0.5200503038495287,
          0.540713823452565,
          0.540713823452565,
          0.5455697253145017,
          0.5455697253145017,
          0.532440389539966,
          0.532440389539966,
          0.5562385407475352,
          0.5562385407475352,
          0.5890845994442037,
          0.5890845994442037,
          0.5038733952473186,
          0.5038733952473186,
          0.5719238435714158,
          0.5719238435714158,
          0.5255513016225077,
          0.5255513016225077,
          0.5116950821174602,
          0.5116950821174602,
          0.5800473007622,
          0.5800473007622,
          0.5714942029161755,
          0.5714942029161755,
          0.5980357524785498,
          0.5980357524785498,
          0.5376045431641255,
          0.5376045431641255,
          0.6142740418029718,
          0.6142740418029718,
          0.5018176826058021,
          0.5018176826058021,
          0.5568026808074729,
          0.5568026808074729,
          0.5635288711595275,
          0.5635288711595275,
          0.5699697367219909,
          0.5699697367219909,
          0.583857210188656,
          0.583857210188656,
          0.609387845791203,
          0.609387845791203,
          0.5938850768866752,
          0.5938850768866752,
          0.6495533228575427,
          0.6495533228575427,
          0.6040794808851634,
          0.6040794808851634,
          0.5911706293048771,
          0.5911706293048771,
          0.5594790872534904,
          0.5594790872534904,
          0.5978812829998068,
          0.5978812829998068,
          0.5618115284448213,
          0.5618115284448213,
          0.5880776658885131,
          0.5880776658885131,
          0.575558390840257,
          0.575558390840257,
          0.555106509674559,
          0.555106509674559,
          0.5144639419975439,
          0.5144639419975439,
          0.5403236767432588,
          0.5403236767432588,
          0.5119750386845472,
          0.5119750386845472,
          0.48618095171565234,
          0.48618095171565234,
          0.4975332944953886,
          0.4975332944953886,
          0.5016314432399687,
          0.5016314432399687,
          0.5268052521876643,
          0.5268052521876643
         ],
         "y0": " ",
         "yaxis": "y"
        }
       ],
       "layout": {
        "boxmode": "group",
        "legend": {
         "tracegroupgap": 0
        },
        "margin": {
         "t": 60
        },
        "template": {
         "data": {
          "bar": [
           {
            "error_x": {
             "color": "#2a3f5f"
            },
            "error_y": {
             "color": "#2a3f5f"
            },
            "marker": {
             "line": {
              "color": "#E5ECF6",
              "width": 0.5
             },
             "pattern": {
              "fillmode": "overlay",
              "size": 10,
              "solidity": 0.2
             }
            },
            "type": "bar"
           }
          ],
          "barpolar": [
           {
            "marker": {
             "line": {
              "color": "#E5ECF6",
              "width": 0.5
             },
             "pattern": {
              "fillmode": "overlay",
              "size": 10,
              "solidity": 0.2
             }
            },
            "type": "barpolar"
           }
          ],
          "carpet": [
           {
            "aaxis": {
             "endlinecolor": "#2a3f5f",
             "gridcolor": "white",
             "linecolor": "white",
             "minorgridcolor": "white",
             "startlinecolor": "#2a3f5f"
            },
            "baxis": {
             "endlinecolor": "#2a3f5f",
             "gridcolor": "white",
             "linecolor": "white",
             "minorgridcolor": "white",
             "startlinecolor": "#2a3f5f"
            },
            "type": "carpet"
           }
          ],
          "choropleth": [
           {
            "colorbar": {
             "outlinewidth": 0,
             "ticks": ""
            },
            "type": "choropleth"
           }
          ],
          "contour": [
           {
            "colorbar": {
             "outlinewidth": 0,
             "ticks": ""
            },
            "colorscale": [
             [
              0,
              "#0d0887"
             ],
             [
              0.1111111111111111,
              "#46039f"
             ],
             [
              0.2222222222222222,
              "#7201a8"
             ],
             [
              0.3333333333333333,
              "#9c179e"
             ],
             [
              0.4444444444444444,
              "#bd3786"
             ],
             [
              0.5555555555555556,
              "#d8576b"
             ],
             [
              0.6666666666666666,
              "#ed7953"
             ],
             [
              0.7777777777777778,
              "#fb9f3a"
             ],
             [
              0.8888888888888888,
              "#fdca26"
             ],
             [
              1,
              "#f0f921"
             ]
            ],
            "type": "contour"
           }
          ],
          "contourcarpet": [
           {
            "colorbar": {
             "outlinewidth": 0,
             "ticks": ""
            },
            "type": "contourcarpet"
           }
          ],
          "heatmap": [
           {
            "colorbar": {
             "outlinewidth": 0,
             "ticks": ""
            },
            "colorscale": [
             [
              0,
              "#0d0887"
             ],
             [
              0.1111111111111111,
              "#46039f"
             ],
             [
              0.2222222222222222,
              "#7201a8"
             ],
             [
              0.3333333333333333,
              "#9c179e"
             ],
             [
              0.4444444444444444,
              "#bd3786"
             ],
             [
              0.5555555555555556,
              "#d8576b"
             ],
             [
              0.6666666666666666,
              "#ed7953"
             ],
             [
              0.7777777777777778,
              "#fb9f3a"
             ],
             [
              0.8888888888888888,
              "#fdca26"
             ],
             [
              1,
              "#f0f921"
             ]
            ],
            "type": "heatmap"
           }
          ],
          "heatmapgl": [
           {
            "colorbar": {
             "outlinewidth": 0,
             "ticks": ""
            },
            "colorscale": [
             [
              0,
              "#0d0887"
             ],
             [
              0.1111111111111111,
              "#46039f"
             ],
             [
              0.2222222222222222,
              "#7201a8"
             ],
             [
              0.3333333333333333,
              "#9c179e"
             ],
             [
              0.4444444444444444,
              "#bd3786"
             ],
             [
              0.5555555555555556,
              "#d8576b"
             ],
             [
              0.6666666666666666,
              "#ed7953"
             ],
             [
              0.7777777777777778,
              "#fb9f3a"
             ],
             [
              0.8888888888888888,
              "#fdca26"
             ],
             [
              1,
              "#f0f921"
             ]
            ],
            "type": "heatmapgl"
           }
          ],
          "histogram": [
           {
            "marker": {
             "pattern": {
              "fillmode": "overlay",
              "size": 10,
              "solidity": 0.2
             }
            },
            "type": "histogram"
           }
          ],
          "histogram2d": [
           {
            "colorbar": {
             "outlinewidth": 0,
             "ticks": ""
            },
            "colorscale": [
             [
              0,
              "#0d0887"
             ],
             [
              0.1111111111111111,
              "#46039f"
             ],
             [
              0.2222222222222222,
              "#7201a8"
             ],
             [
              0.3333333333333333,
              "#9c179e"
             ],
             [
              0.4444444444444444,
              "#bd3786"
             ],
             [
              0.5555555555555556,
              "#d8576b"
             ],
             [
              0.6666666666666666,
              "#ed7953"
             ],
             [
              0.7777777777777778,
              "#fb9f3a"
             ],
             [
              0.8888888888888888,
              "#fdca26"
             ],
             [
              1,
              "#f0f921"
             ]
            ],
            "type": "histogram2d"
           }
          ],
          "histogram2dcontour": [
           {
            "colorbar": {
             "outlinewidth": 0,
             "ticks": ""
            },
            "colorscale": [
             [
              0,
              "#0d0887"
             ],
             [
              0.1111111111111111,
              "#46039f"
             ],
             [
              0.2222222222222222,
              "#7201a8"
             ],
             [
              0.3333333333333333,
              "#9c179e"
             ],
             [
              0.4444444444444444,
              "#bd3786"
             ],
             [
              0.5555555555555556,
              "#d8576b"
             ],
             [
              0.6666666666666666,
              "#ed7953"
             ],
             [
              0.7777777777777778,
              "#fb9f3a"
             ],
             [
              0.8888888888888888,
              "#fdca26"
             ],
             [
              1,
              "#f0f921"
             ]
            ],
            "type": "histogram2dcontour"
           }
          ],
          "mesh3d": [
           {
            "colorbar": {
             "outlinewidth": 0,
             "ticks": ""
            },
            "type": "mesh3d"
           }
          ],
          "parcoords": [
           {
            "line": {
             "colorbar": {
              "outlinewidth": 0,
              "ticks": ""
             }
            },
            "type": "parcoords"
           }
          ],
          "pie": [
           {
            "automargin": true,
            "type": "pie"
           }
          ],
          "scatter": [
           {
            "marker": {
             "colorbar": {
              "outlinewidth": 0,
              "ticks": ""
             }
            },
            "type": "scatter"
           }
          ],
          "scatter3d": [
           {
            "line": {
             "colorbar": {
              "outlinewidth": 0,
              "ticks": ""
             }
            },
            "marker": {
             "colorbar": {
              "outlinewidth": 0,
              "ticks": ""
             }
            },
            "type": "scatter3d"
           }
          ],
          "scattercarpet": [
           {
            "marker": {
             "colorbar": {
              "outlinewidth": 0,
              "ticks": ""
             }
            },
            "type": "scattercarpet"
           }
          ],
          "scattergeo": [
           {
            "marker": {
             "colorbar": {
              "outlinewidth": 0,
              "ticks": ""
             }
            },
            "type": "scattergeo"
           }
          ],
          "scattergl": [
           {
            "marker": {
             "colorbar": {
              "outlinewidth": 0,
              "ticks": ""
             }
            },
            "type": "scattergl"
           }
          ],
          "scattermapbox": [
           {
            "marker": {
             "colorbar": {
              "outlinewidth": 0,
              "ticks": ""
             }
            },
            "type": "scattermapbox"
           }
          ],
          "scatterpolar": [
           {
            "marker": {
             "colorbar": {
              "outlinewidth": 0,
              "ticks": ""
             }
            },
            "type": "scatterpolar"
           }
          ],
          "scatterpolargl": [
           {
            "marker": {
             "colorbar": {
              "outlinewidth": 0,
              "ticks": ""
             }
            },
            "type": "scatterpolargl"
           }
          ],
          "scatterternary": [
           {
            "marker": {
             "colorbar": {
              "outlinewidth": 0,
              "ticks": ""
             }
            },
            "type": "scatterternary"
           }
          ],
          "surface": [
           {
            "colorbar": {
             "outlinewidth": 0,
             "ticks": ""
            },
            "colorscale": [
             [
              0,
              "#0d0887"
             ],
             [
              0.1111111111111111,
              "#46039f"
             ],
             [
              0.2222222222222222,
              "#7201a8"
             ],
             [
              0.3333333333333333,
              "#9c179e"
             ],
             [
              0.4444444444444444,
              "#bd3786"
             ],
             [
              0.5555555555555556,
              "#d8576b"
             ],
             [
              0.6666666666666666,
              "#ed7953"
             ],
             [
              0.7777777777777778,
              "#fb9f3a"
             ],
             [
              0.8888888888888888,
              "#fdca26"
             ],
             [
              1,
              "#f0f921"
             ]
            ],
            "type": "surface"
           }
          ],
          "table": [
           {
            "cells": {
             "fill": {
              "color": "#EBF0F8"
             },
             "line": {
              "color": "white"
             }
            },
            "header": {
             "fill": {
              "color": "#C8D4E3"
             },
             "line": {
              "color": "white"
             }
            },
            "type": "table"
           }
          ]
         },
         "layout": {
          "annotationdefaults": {
           "arrowcolor": "#2a3f5f",
           "arrowhead": 0,
           "arrowwidth": 1
          },
          "autotypenumbers": "strict",
          "coloraxis": {
           "colorbar": {
            "outlinewidth": 0,
            "ticks": ""
           }
          },
          "colorscale": {
           "diverging": [
            [
             0,
             "#8e0152"
            ],
            [
             0.1,
             "#c51b7d"
            ],
            [
             0.2,
             "#de77ae"
            ],
            [
             0.3,
             "#f1b6da"
            ],
            [
             0.4,
             "#fde0ef"
            ],
            [
             0.5,
             "#f7f7f7"
            ],
            [
             0.6,
             "#e6f5d0"
            ],
            [
             0.7,
             "#b8e186"
            ],
            [
             0.8,
             "#7fbc41"
            ],
            [
             0.9,
             "#4d9221"
            ],
            [
             1,
             "#276419"
            ]
           ],
           "sequential": [
            [
             0,
             "#0d0887"
            ],
            [
             0.1111111111111111,
             "#46039f"
            ],
            [
             0.2222222222222222,
             "#7201a8"
            ],
            [
             0.3333333333333333,
             "#9c179e"
            ],
            [
             0.4444444444444444,
             "#bd3786"
            ],
            [
             0.5555555555555556,
             "#d8576b"
            ],
            [
             0.6666666666666666,
             "#ed7953"
            ],
            [
             0.7777777777777778,
             "#fb9f3a"
            ],
            [
             0.8888888888888888,
             "#fdca26"
            ],
            [
             1,
             "#f0f921"
            ]
           ],
           "sequentialminus": [
            [
             0,
             "#0d0887"
            ],
            [
             0.1111111111111111,
             "#46039f"
            ],
            [
             0.2222222222222222,
             "#7201a8"
            ],
            [
             0.3333333333333333,
             "#9c179e"
            ],
            [
             0.4444444444444444,
             "#bd3786"
            ],
            [
             0.5555555555555556,
             "#d8576b"
            ],
            [
             0.6666666666666666,
             "#ed7953"
            ],
            [
             0.7777777777777778,
             "#fb9f3a"
            ],
            [
             0.8888888888888888,
             "#fdca26"
            ],
            [
             1,
             "#f0f921"
            ]
           ]
          },
          "colorway": [
           "#636efa",
           "#EF553B",
           "#00cc96",
           "#ab63fa",
           "#FFA15A",
           "#19d3f3",
           "#FF6692",
           "#B6E880",
           "#FF97FF",
           "#FECB52"
          ],
          "font": {
           "color": "#2a3f5f"
          },
          "geo": {
           "bgcolor": "white",
           "lakecolor": "white",
           "landcolor": "#E5ECF6",
           "showlakes": true,
           "showland": true,
           "subunitcolor": "white"
          },
          "hoverlabel": {
           "align": "left"
          },
          "hovermode": "closest",
          "mapbox": {
           "style": "light"
          },
          "paper_bgcolor": "white",
          "plot_bgcolor": "#E5ECF6",
          "polar": {
           "angularaxis": {
            "gridcolor": "white",
            "linecolor": "white",
            "ticks": ""
           },
           "bgcolor": "#E5ECF6",
           "radialaxis": {
            "gridcolor": "white",
            "linecolor": "white",
            "ticks": ""
           }
          },
          "scene": {
           "xaxis": {
            "backgroundcolor": "#E5ECF6",
            "gridcolor": "white",
            "gridwidth": 2,
            "linecolor": "white",
            "showbackground": true,
            "ticks": "",
            "zerolinecolor": "white"
           },
           "yaxis": {
            "backgroundcolor": "#E5ECF6",
            "gridcolor": "white",
            "gridwidth": 2,
            "linecolor": "white",
            "showbackground": true,
            "ticks": "",
            "zerolinecolor": "white"
           },
           "zaxis": {
            "backgroundcolor": "#E5ECF6",
            "gridcolor": "white",
            "gridwidth": 2,
            "linecolor": "white",
            "showbackground": true,
            "ticks": "",
            "zerolinecolor": "white"
           }
          },
          "shapedefaults": {
           "line": {
            "color": "#2a3f5f"
           }
          },
          "ternary": {
           "aaxis": {
            "gridcolor": "white",
            "linecolor": "white",
            "ticks": ""
           },
           "baxis": {
            "gridcolor": "white",
            "linecolor": "white",
            "ticks": ""
           },
           "bgcolor": "#E5ECF6",
           "caxis": {
            "gridcolor": "white",
            "linecolor": "white",
            "ticks": ""
           }
          },
          "title": {
           "x": 0.05
          },
          "xaxis": {
           "automargin": true,
           "gridcolor": "white",
           "linecolor": "white",
           "ticks": "",
           "title": {
            "standoff": 15
           },
           "zerolinecolor": "white",
           "zerolinewidth": 2
          },
          "yaxis": {
           "automargin": true,
           "gridcolor": "white",
           "linecolor": "white",
           "ticks": "",
           "title": {
            "standoff": 15
           },
           "zerolinecolor": "white",
           "zerolinewidth": 2
          }
         }
        },
        "xaxis": {
         "anchor": "y",
         "domain": [
          0,
          1
         ]
        },
        "yaxis": {
         "anchor": "x",
         "domain": [
          0,
          1
         ],
         "title": {
          "text": "SQI"
         }
        }
       }
      },
      "text/html": [
       "<div>                            <div id=\"f5954ecd-902b-461c-9e81-995181264187\" class=\"plotly-graph-div\" style=\"height:525px; width:100%;\"></div>            <script type=\"text/javascript\">                require([\"plotly\"], function(Plotly) {                    window.PLOTLYENV=window.PLOTLYENV || {};                                    if (document.getElementById(\"f5954ecd-902b-461c-9e81-995181264187\")) {                    Plotly.newPlot(                        \"f5954ecd-902b-461c-9e81-995181264187\",                        [{\"alignmentgroup\":\"True\",\"boxpoints\":\"all\",\"hovertemplate\":\"SQI=%{y}<extra></extra>\",\"legendgroup\":\"\",\"marker\":{\"color\":\"#636efa\"},\"name\":\"\",\"notched\":false,\"offsetgroup\":\"\",\"orientation\":\"v\",\"showlegend\":false,\"x0\":\" \",\"xaxis\":\"x\",\"y\":[0.77,0.77,0.84,0.84,0.85,0.85,0.8,0.8,0.81,0.81,0.78,0.78,0.79,0.79,0.8,0.8,0.76,0.76,0.73,0.73,0.79,0.79,0.81,0.81,0.79,0.79,0.81,0.81,0.81,0.81,0.79,0.79,0.84,0.84,0.84,0.84,0.87,0.87,0.84,0.84,0.84,0.84,0.81,0.81,0.83,0.83,0.77,0.77,0.81,0.81,0.78,0.78,0.7,0.7,0.76,0.76,0.67,0.67,0.69,0.69,0.66,0.66,0.69,0.69,0.65,0.65,0.69,0.69,0.64,0.64,0.66,0.66,0.65,0.65,0.64,0.64,0.64,0.64,0.64,0.64,0.66,0.66,0.7,0.7,0.7,0.7,0.67,0.67,0.65,0.65,0.68,0.68,0.66,0.66,0.65,0.65,0.67,0.67,0.67,0.67,0.66,0.66,0.68,0.68,0.66,0.66,0.64,0.64,0.65,0.65,0.63,0.63,0.65,0.65,0.65,0.65,0.65,0.65,0.66,0.66,0.64,0.64,0.64,0.64,0.64,0.64,0.58,0.58,0.63,0.63,0.64,0.64,0.62,0.62,0.63,0.63,0.59,0.59,0.55,0.55,0.55,0.55,0.54,0.54,0.55,0.55,0.64,0.64,0.62,0.62,0.63,0.63,0.61,0.61,0.58,0.58,0.58,0.58,0.57,0.57,0.62,0.62,0.64,0.64,0.61,0.61,0.61,0.61,0.64,0.64,0.62,0.62,0.59,0.59,0.62,0.62,0.59,0.59,0.57,0.57,0.61,0.61,0.6,0.6,0.6,0.6,0.61,0.61,0.57,0.57,0.59,0.59,0.6,0.6,0.6,0.6,0.63,0.63,0.61,0.61,0.61,0.61,0.59,0.59,0.58,0.58,0.58,0.58,0.56,0.56,0.54,0.54,0.56,0.56,0.53,0.53,0.53,0.53,0.49,0.49,0.51,0.51,0.5,0.5,0.54,0.54,0.54,0.54,0.57,0.57,0.56,0.56,0.59,0.59,0.57,0.57,0.56,0.56,0.56,0.56,0.54,0.54,0.54,0.54,0.53,0.53,0.53,0.53,0.56,0.56,0.55,0.55,0.56,0.56,0.51,0.51,0.5,0.5,0.49,0.49,0.5292746718911038,0.5292746718911038,0.5673295863383314,0.5673295863383314,0.5469869388922042,0.5469869388922042,0.5517842686274317,0.5517842686274317,0.5294335204341897,0.5294335204341897,0.5120519167415206,0.5120519167415206,0.5163903964321814,0.5163903964321814,0.5490903952523043,0.5490903952523043,0.5374375298543723,0.5374375298543723,0.5390300609951898,0.5390300609951898,0.5345167228742377,0.5345167228742377,0.5181553051114338,0.5181553051114338,0.5200503038495287,0.5200503038495287,0.540713823452565,0.540713823452565,0.5455697253145017,0.5455697253145017,0.532440389539966,0.532440389539966,0.5562385407475352,0.5562385407475352,0.5890845994442037,0.5890845994442037,0.5038733952473186,0.5038733952473186,0.5719238435714158,0.5719238435714158,0.5255513016225077,0.5255513016225077,0.5116950821174602,0.5116950821174602,0.5800473007622,0.5800473007622,0.5714942029161755,0.5714942029161755,0.5980357524785498,0.5980357524785498,0.5376045431641255,0.5376045431641255,0.6142740418029718,0.6142740418029718,0.5018176826058021,0.5018176826058021,0.5568026808074729,0.5568026808074729,0.5635288711595275,0.5635288711595275,0.5699697367219909,0.5699697367219909,0.583857210188656,0.583857210188656,0.609387845791203,0.609387845791203,0.5938850768866752,0.5938850768866752,0.6495533228575427,0.6495533228575427,0.6040794808851634,0.6040794808851634,0.5911706293048771,0.5911706293048771,0.5594790872534904,0.5594790872534904,0.5978812829998068,0.5978812829998068,0.5618115284448213,0.5618115284448213,0.5880776658885131,0.5880776658885131,0.575558390840257,0.575558390840257,0.555106509674559,0.555106509674559,0.5144639419975439,0.5144639419975439,0.5403236767432588,0.5403236767432588,0.5119750386845472,0.5119750386845472,0.48618095171565234,0.48618095171565234,0.4975332944953886,0.4975332944953886,0.5016314432399687,0.5016314432399687,0.5268052521876643,0.5268052521876643],\"y0\":\" \",\"yaxis\":\"y\",\"type\":\"box\"}],                        {\"template\":{\"data\":{\"bar\":[{\"error_x\":{\"color\":\"#2a3f5f\"},\"error_y\":{\"color\":\"#2a3f5f\"},\"marker\":{\"line\":{\"color\":\"#E5ECF6\",\"width\":0.5},\"pattern\":{\"fillmode\":\"overlay\",\"size\":10,\"solidity\":0.2}},\"type\":\"bar\"}],\"barpolar\":[{\"marker\":{\"line\":{\"color\":\"#E5ECF6\",\"width\":0.5},\"pattern\":{\"fillmode\":\"overlay\",\"size\":10,\"solidity\":0.2}},\"type\":\"barpolar\"}],\"carpet\":[{\"aaxis\":{\"endlinecolor\":\"#2a3f5f\",\"gridcolor\":\"white\",\"linecolor\":\"white\",\"minorgridcolor\":\"white\",\"startlinecolor\":\"#2a3f5f\"},\"baxis\":{\"endlinecolor\":\"#2a3f5f\",\"gridcolor\":\"white\",\"linecolor\":\"white\",\"minorgridcolor\":\"white\",\"startlinecolor\":\"#2a3f5f\"},\"type\":\"carpet\"}],\"choropleth\":[{\"colorbar\":{\"outlinewidth\":0,\"ticks\":\"\"},\"type\":\"choropleth\"}],\"contour\":[{\"colorbar\":{\"outlinewidth\":0,\"ticks\":\"\"},\"colorscale\":[[0.0,\"#0d0887\"],[0.1111111111111111,\"#46039f\"],[0.2222222222222222,\"#7201a8\"],[0.3333333333333333,\"#9c179e\"],[0.4444444444444444,\"#bd3786\"],[0.5555555555555556,\"#d8576b\"],[0.6666666666666666,\"#ed7953\"],[0.7777777777777778,\"#fb9f3a\"],[0.8888888888888888,\"#fdca26\"],[1.0,\"#f0f921\"]],\"type\":\"contour\"}],\"contourcarpet\":[{\"colorbar\":{\"outlinewidth\":0,\"ticks\":\"\"},\"type\":\"contourcarpet\"}],\"heatmap\":[{\"colorbar\":{\"outlinewidth\":0,\"ticks\":\"\"},\"colorscale\":[[0.0,\"#0d0887\"],[0.1111111111111111,\"#46039f\"],[0.2222222222222222,\"#7201a8\"],[0.3333333333333333,\"#9c179e\"],[0.4444444444444444,\"#bd3786\"],[0.5555555555555556,\"#d8576b\"],[0.6666666666666666,\"#ed7953\"],[0.7777777777777778,\"#fb9f3a\"],[0.8888888888888888,\"#fdca26\"],[1.0,\"#f0f921\"]],\"type\":\"heatmap\"}],\"heatmapgl\":[{\"colorbar\":{\"outlinewidth\":0,\"ticks\":\"\"},\"colorscale\":[[0.0,\"#0d0887\"],[0.1111111111111111,\"#46039f\"],[0.2222222222222222,\"#7201a8\"],[0.3333333333333333,\"#9c179e\"],[0.4444444444444444,\"#bd3786\"],[0.5555555555555556,\"#d8576b\"],[0.6666666666666666,\"#ed7953\"],[0.7777777777777778,\"#fb9f3a\"],[0.8888888888888888,\"#fdca26\"],[1.0,\"#f0f921\"]],\"type\":\"heatmapgl\"}],\"histogram\":[{\"marker\":{\"pattern\":{\"fillmode\":\"overlay\",\"size\":10,\"solidity\":0.2}},\"type\":\"histogram\"}],\"histogram2d\":[{\"colorbar\":{\"outlinewidth\":0,\"ticks\":\"\"},\"colorscale\":[[0.0,\"#0d0887\"],[0.1111111111111111,\"#46039f\"],[0.2222222222222222,\"#7201a8\"],[0.3333333333333333,\"#9c179e\"],[0.4444444444444444,\"#bd3786\"],[0.5555555555555556,\"#d8576b\"],[0.6666666666666666,\"#ed7953\"],[0.7777777777777778,\"#fb9f3a\"],[0.8888888888888888,\"#fdca26\"],[1.0,\"#f0f921\"]],\"type\":\"histogram2d\"}],\"histogram2dcontour\":[{\"colorbar\":{\"outlinewidth\":0,\"ticks\":\"\"},\"colorscale\":[[0.0,\"#0d0887\"],[0.1111111111111111,\"#46039f\"],[0.2222222222222222,\"#7201a8\"],[0.3333333333333333,\"#9c179e\"],[0.4444444444444444,\"#bd3786\"],[0.5555555555555556,\"#d8576b\"],[0.6666666666666666,\"#ed7953\"],[0.7777777777777778,\"#fb9f3a\"],[0.8888888888888888,\"#fdca26\"],[1.0,\"#f0f921\"]],\"type\":\"histogram2dcontour\"}],\"mesh3d\":[{\"colorbar\":{\"outlinewidth\":0,\"ticks\":\"\"},\"type\":\"mesh3d\"}],\"parcoords\":[{\"line\":{\"colorbar\":{\"outlinewidth\":0,\"ticks\":\"\"}},\"type\":\"parcoords\"}],\"pie\":[{\"automargin\":true,\"type\":\"pie\"}],\"scatter\":[{\"marker\":{\"colorbar\":{\"outlinewidth\":0,\"ticks\":\"\"}},\"type\":\"scatter\"}],\"scatter3d\":[{\"line\":{\"colorbar\":{\"outlinewidth\":0,\"ticks\":\"\"}},\"marker\":{\"colorbar\":{\"outlinewidth\":0,\"ticks\":\"\"}},\"type\":\"scatter3d\"}],\"scattercarpet\":[{\"marker\":{\"colorbar\":{\"outlinewidth\":0,\"ticks\":\"\"}},\"type\":\"scattercarpet\"}],\"scattergeo\":[{\"marker\":{\"colorbar\":{\"outlinewidth\":0,\"ticks\":\"\"}},\"type\":\"scattergeo\"}],\"scattergl\":[{\"marker\":{\"colorbar\":{\"outlinewidth\":0,\"ticks\":\"\"}},\"type\":\"scattergl\"}],\"scattermapbox\":[{\"marker\":{\"colorbar\":{\"outlinewidth\":0,\"ticks\":\"\"}},\"type\":\"scattermapbox\"}],\"scatterpolar\":[{\"marker\":{\"colorbar\":{\"outlinewidth\":0,\"ticks\":\"\"}},\"type\":\"scatterpolar\"}],\"scatterpolargl\":[{\"marker\":{\"colorbar\":{\"outlinewidth\":0,\"ticks\":\"\"}},\"type\":\"scatterpolargl\"}],\"scatterternary\":[{\"marker\":{\"colorbar\":{\"outlinewidth\":0,\"ticks\":\"\"}},\"type\":\"scatterternary\"}],\"surface\":[{\"colorbar\":{\"outlinewidth\":0,\"ticks\":\"\"},\"colorscale\":[[0.0,\"#0d0887\"],[0.1111111111111111,\"#46039f\"],[0.2222222222222222,\"#7201a8\"],[0.3333333333333333,\"#9c179e\"],[0.4444444444444444,\"#bd3786\"],[0.5555555555555556,\"#d8576b\"],[0.6666666666666666,\"#ed7953\"],[0.7777777777777778,\"#fb9f3a\"],[0.8888888888888888,\"#fdca26\"],[1.0,\"#f0f921\"]],\"type\":\"surface\"}],\"table\":[{\"cells\":{\"fill\":{\"color\":\"#EBF0F8\"},\"line\":{\"color\":\"white\"}},\"header\":{\"fill\":{\"color\":\"#C8D4E3\"},\"line\":{\"color\":\"white\"}},\"type\":\"table\"}]},\"layout\":{\"annotationdefaults\":{\"arrowcolor\":\"#2a3f5f\",\"arrowhead\":0,\"arrowwidth\":1},\"autotypenumbers\":\"strict\",\"coloraxis\":{\"colorbar\":{\"outlinewidth\":0,\"ticks\":\"\"}},\"colorscale\":{\"diverging\":[[0,\"#8e0152\"],[0.1,\"#c51b7d\"],[0.2,\"#de77ae\"],[0.3,\"#f1b6da\"],[0.4,\"#fde0ef\"],[0.5,\"#f7f7f7\"],[0.6,\"#e6f5d0\"],[0.7,\"#b8e186\"],[0.8,\"#7fbc41\"],[0.9,\"#4d9221\"],[1,\"#276419\"]],\"sequential\":[[0.0,\"#0d0887\"],[0.1111111111111111,\"#46039f\"],[0.2222222222222222,\"#7201a8\"],[0.3333333333333333,\"#9c179e\"],[0.4444444444444444,\"#bd3786\"],[0.5555555555555556,\"#d8576b\"],[0.6666666666666666,\"#ed7953\"],[0.7777777777777778,\"#fb9f3a\"],[0.8888888888888888,\"#fdca26\"],[1.0,\"#f0f921\"]],\"sequentialminus\":[[0.0,\"#0d0887\"],[0.1111111111111111,\"#46039f\"],[0.2222222222222222,\"#7201a8\"],[0.3333333333333333,\"#9c179e\"],[0.4444444444444444,\"#bd3786\"],[0.5555555555555556,\"#d8576b\"],[0.6666666666666666,\"#ed7953\"],[0.7777777777777778,\"#fb9f3a\"],[0.8888888888888888,\"#fdca26\"],[1.0,\"#f0f921\"]]},\"colorway\":[\"#636efa\",\"#EF553B\",\"#00cc96\",\"#ab63fa\",\"#FFA15A\",\"#19d3f3\",\"#FF6692\",\"#B6E880\",\"#FF97FF\",\"#FECB52\"],\"font\":{\"color\":\"#2a3f5f\"},\"geo\":{\"bgcolor\":\"white\",\"lakecolor\":\"white\",\"landcolor\":\"#E5ECF6\",\"showlakes\":true,\"showland\":true,\"subunitcolor\":\"white\"},\"hoverlabel\":{\"align\":\"left\"},\"hovermode\":\"closest\",\"mapbox\":{\"style\":\"light\"},\"paper_bgcolor\":\"white\",\"plot_bgcolor\":\"#E5ECF6\",\"polar\":{\"angularaxis\":{\"gridcolor\":\"white\",\"linecolor\":\"white\",\"ticks\":\"\"},\"bgcolor\":\"#E5ECF6\",\"radialaxis\":{\"gridcolor\":\"white\",\"linecolor\":\"white\",\"ticks\":\"\"}},\"scene\":{\"xaxis\":{\"backgroundcolor\":\"#E5ECF6\",\"gridcolor\":\"white\",\"gridwidth\":2,\"linecolor\":\"white\",\"showbackground\":true,\"ticks\":\"\",\"zerolinecolor\":\"white\"},\"yaxis\":{\"backgroundcolor\":\"#E5ECF6\",\"gridcolor\":\"white\",\"gridwidth\":2,\"linecolor\":\"white\",\"showbackground\":true,\"ticks\":\"\",\"zerolinecolor\":\"white\"},\"zaxis\":{\"backgroundcolor\":\"#E5ECF6\",\"gridcolor\":\"white\",\"gridwidth\":2,\"linecolor\":\"white\",\"showbackground\":true,\"ticks\":\"\",\"zerolinecolor\":\"white\"}},\"shapedefaults\":{\"line\":{\"color\":\"#2a3f5f\"}},\"ternary\":{\"aaxis\":{\"gridcolor\":\"white\",\"linecolor\":\"white\",\"ticks\":\"\"},\"baxis\":{\"gridcolor\":\"white\",\"linecolor\":\"white\",\"ticks\":\"\"},\"bgcolor\":\"#E5ECF6\",\"caxis\":{\"gridcolor\":\"white\",\"linecolor\":\"white\",\"ticks\":\"\"}},\"title\":{\"x\":0.05},\"xaxis\":{\"automargin\":true,\"gridcolor\":\"white\",\"linecolor\":\"white\",\"ticks\":\"\",\"title\":{\"standoff\":15},\"zerolinecolor\":\"white\",\"zerolinewidth\":2},\"yaxis\":{\"automargin\":true,\"gridcolor\":\"white\",\"linecolor\":\"white\",\"ticks\":\"\",\"title\":{\"standoff\":15},\"zerolinecolor\":\"white\",\"zerolinewidth\":2}}},\"xaxis\":{\"anchor\":\"y\",\"domain\":[0.0,1.0]},\"yaxis\":{\"anchor\":\"x\",\"domain\":[0.0,1.0],\"title\":{\"text\":\"SQI\"}},\"legend\":{\"tracegroupgap\":0},\"margin\":{\"t\":60},\"boxmode\":\"group\"},                        {\"responsive\": true}                    ).then(function(){\n",
       "                            \n",
       "var gd = document.getElementById('f5954ecd-902b-461c-9e81-995181264187');\n",
       "var x = new MutationObserver(function (mutations, observer) {{\n",
       "        var display = window.getComputedStyle(gd).display;\n",
       "        if (!display || display === 'none') {{\n",
       "            console.log([gd, 'removed!']);\n",
       "            Plotly.purge(gd);\n",
       "            observer.disconnect();\n",
       "        }}\n",
       "}});\n",
       "\n",
       "// Listen for the removal of the full notebook cells\n",
       "var notebookContainer = gd.closest('#notebook-container');\n",
       "if (notebookContainer) {{\n",
       "    x.observe(notebookContainer, {childList: true});\n",
       "}}\n",
       "\n",
       "// Listen for the clearing of the current output cell\n",
       "var outputEl = gd.closest('.output');\n",
       "if (outputEl) {{\n",
       "    x.observe(outputEl, {childList: true});\n",
       "}}\n",
       "\n",
       "                        })                };                });            </script>        </div>"
      ]
     },
     "metadata": {},
     "output_type": "display_data"
    }
   ],
   "source": [
    "fig.show()"
   ]
  },
  {
   "cell_type": "code",
   "execution_count": 64,
   "id": "9a2a5f9c",
   "metadata": {},
   "outputs": [
    {
     "name": "stdout",
     "output_type": "stream",
     "text": [
      "Old_shape :  (360, 7)\n",
      "New_shape :  (344, 7)\n"
     ]
    }
   ],
   "source": [
    "df_recommended_outliertreatment=df_recommended\n",
    "df_recommended_outliertreatment.columns= df_recommended.columns\n",
    "df_recommended_outliertreatment.head()\n",
    "\n",
    "\n",
    "Q1 = np.percentile(df_recommended_outliertreatment['SQI'],25, interpolation='midpoint')\n",
    "Q3 = np.percentile(df_recommended_outliertreatment['SQI'],75, interpolation='midpoint')\n",
    "\n",
    "IQR= Q3-Q1\n",
    "\n",
    "print(\"Old_shape : \",df_recommended_outliertreatment.shape)\n",
    "\n",
    "Upper_bound=np.where(df_recommended_outliertreatment['SQI'] >= (Q3 + 1.5 * IQR))\n",
    "\n",
    "lower_bound=np.where(df_recommended_outliertreatment['SQI'] <= (Q1 - 1.5 * IQR))\n",
    "\n",
    "\n",
    "df_recommended_outliertreatment.drop(Upper_bound[0], inplace=True)\n",
    "df_recommended_outliertreatment.drop(lower_bound[0], inplace=True)\n",
    "\n",
    "print(\"New_shape : \",df_recommended_outliertreatment.shape)"
   ]
  },
  {
   "cell_type": "code",
   "execution_count": 65,
   "id": "ba9696b8",
   "metadata": {},
   "outputs": [],
   "source": [
    "df_recommended= df_recommended_outliertreatment"
   ]
  },
  {
   "cell_type": "code",
   "execution_count": 70,
   "id": "0e09739f",
   "metadata": {},
   "outputs": [
    {
     "data": {
      "image/png": "[encoded data removed]",
      "text/plain": [
       "<Figure size 1080x432 with 1 Axes>"
      ]
     },
     "metadata": {
      "needs_background": "light"
     },
     "output_type": "display_data"
    }
   ],
   "source": [
    "plt.figure(figsize=(15,6))\n",
    "sns.barplot(y='SQI', x='Label', data=df_recommended, palette='hls')\n",
    "plt.xticks(rotation=90)\n",
    "plt.show()"
   ]
  },
  {
   "cell_type": "code",
   "execution_count": 71,
   "id": "4b00edac",
   "metadata": {},
   "outputs": [],
   "source": [
    "crop_summary_new = df_recommended.copy()"
   ]
  },
  {
   "cell_type": "code",
   "execution_count": 76,
   "id": "6077d8e2",
   "metadata": {},
   "outputs": [
    {
     "data": {
      "application/vnd.plotly.v1+json": {
       "config": {
        "plotlyServerURL": "https://plot.ly"
       },
       "data": [
        {
         "alignmentgroup": "True",
         "hovertemplate": "Label=%{x}<br>SQI=%{y}<extra></extra>",
         "legendgroup": "",
         "marker": {
          "color": "#636efa",
          "pattern": {
           "shape": ""
          }
         },
         "name": "",
         "offsetgroup": "",
         "orientation": "v",
         "showlegend": false,
         "textposition": "auto",
         "type": "bar",
         "x": [
          "Rice",
          "Fallow",
          "Rice",
          "Fallow",
          "Rice",
          "Fallow",
          "Rice",
          "Fallow",
          "Rice",
          "Fallow",
          "Rice",
          "Fallow",
          "Rice",
          "Fallow",
          "Rice",
          "Fallow",
          "Rice",
          "Fallow",
          "Rice",
          "Fallow",
          "Rice",
          "Fallow",
          "Rice",
          "Fallow",
          "Rice",
          "Fallow",
          "Rice",
          "Fallow",
          "Rice",
          "Fallow",
          "Rice",
          "Fallow",
          "Rice",
          "Fallow",
          "Rice",
          "Fallow",
          "Rice",
          "Fallow",
          "Rice",
          "Fallow",
          "Rice",
          "Fallow",
          "Rice",
          "Fallow",
          "Rice",
          "Fallow",
          "Rice",
          "Fallow",
          "Rice",
          "Fallow",
          "Rice",
          "Fallow",
          "Rice",
          "Fallow",
          "Rice",
          "Fallow",
          "Rice",
          "Fallow",
          "Rice",
          "Fallow",
          "Rice",
          "Fallow",
          "Rice",
          "Fallow",
          "Rice",
          "Fallow",
          "Rice",
          "Fallow",
          "Rice",
          "Fallow",
          "Rice",
          "Fallow",
          "Rice",
          "Fallow",
          "Rice",
          "Potato",
          "Rice",
          "Potato",
          "Rice",
          "Potato",
          "Rice",
          "Potato",
          "Rice",
          "Potato",
          "Rice",
          "Potato",
          "Rice",
          "Potato",
          "Rice",
          "Potato",
          "Rice",
          "Potato",
          "Rice",
          "Potato",
          "Rice",
          "Potato",
          "Rice",
          "Potato",
          "Rice",
          "Potato",
          "Rice",
          "Potato",
          "Rice",
          "Potato",
          "Rice",
          "Fallow",
          "Rice",
          "Fallow",
          "Rice",
          "Fallow",
          "Rice",
          "Fallow",
          "Rice",
          "Fallow",
          "Rice",
          "Fallow",
          "Rice",
          "Fallow",
          "Rice",
          "Fallow",
          "Rice",
          "Fallow",
          "Rice",
          "Fallow",
          "Rice",
          "Fallow",
          "Rice",
          "Fallow",
          "Rice",
          "Fallow",
          "Rice",
          "Fallow",
          "Rice",
          "Fallow",
          "Rice",
          "Fallow",
          "Rice",
          "Fallow",
          "Rice",
          "Fallow",
          "Rice",
          "Fallow",
          "Fallow",
          "Rapseed",
          "Fallow",
          "Rapseed",
          "Fallow",
          "Rapseed",
          "Fallow",
          "Rapseed",
          "Fallow",
          "Rapseed",
          "Fallow",
          "Rapseed",
          "Fallow",
          "Rapseed",
          "Fallow",
          "Rapseed",
          "Fallow",
          "Rapseed",
          "Fallow",
          "Rapseed",
          "Fallow",
          "Rapseed",
          "Fallow",
          "Blackgram",
          "Fallow",
          "Blackgram",
          "Fallow",
          "Blackgram",
          "Fallow",
          "Blackgram",
          "Fallow",
          "Blackgram",
          "Fallow",
          "Blackgram",
          "Fallow",
          "Blackgram",
          "Fallow",
          "Blackgram",
          "Fallow",
          "Blackgram",
          "Rice",
          "Fallow",
          "Rice",
          "Fallow",
          "Rice",
          "Fallow",
          "Rice",
          "Fallow",
          "Rice",
          "Fallow",
          "Rice",
          "Fallow",
          "Rice",
          "Fallow",
          "Rice",
          "Fallow",
          "Rice",
          "Fallow",
          "Rice",
          "Fallow",
          "Rice",
          "Fallow",
          "Rice",
          "Fallow",
          "Rice",
          "Fallow",
          "Rice",
          "Fallow",
          "Rice",
          "Fallow",
          "Rice",
          "Fallow",
          "Rice",
          "Fallow",
          "Rice",
          "Fallow",
          "Rice",
          "Fallow",
          "Rice",
          "Fallow",
          "Rice",
          "Fallow",
          "Rice",
          "Fallow",
          "Rice",
          "Fallow",
          "Rice",
          "Fallow",
          "Rice",
          "Fallow",
          "Rice",
          "Fallow",
          "Rice",
          "Fallow",
          "Rice",
          "Fallow",
          "Rice",
          "Fallow",
          "Rice",
          "Fallow",
          "Rice",
          "Fallow",
          "Rice",
          "Fallow",
          "Rice",
          "Fallow",
          "Rice",
          "Fallow",
          "Rice",
          "Fallow",
          "Rice",
          "Fallow",
          "Rice",
          "Fallow",
          "Rice",
          "Fallow",
          "Rice",
          "Fallow",
          "Rice",
          "Fallow",
          "Rice",
          "Fallow",
          "Rice",
          "Fallow",
          "Rice",
          "Fallow",
          "Rice",
          "Fallow",
          "Rice",
          "Fallow",
          "Rice",
          "Fallow",
          "Rice",
          "Fallow",
          "Rice",
          "Fallow",
          "Rice",
          "Fallow",
          "Rice",
          "Fallow",
          "Rice",
          "Fallow",
          "Rice",
          "Fallow",
          "Rice",
          "Fallow",
          "Rice",
          "Fallow",
          "Rice",
          "Fallow",
          "Rice",
          "Fallow",
          "Rice",
          "Fallow",
          "Rice",
          "Fallow",
          "Rice",
          "Fallow",
          "Rice",
          "Fallow",
          "Rice",
          "Fallow",
          "Rice",
          "Rabi_vegetables",
          "Rice",
          "Rabi_vegetables",
          "Rice",
          "Rabi_vegetables",
          "Rice",
          "Rabi_vegetables",
          "Rice",
          "Rabi_vegetables",
          "Rice",
          "Rabi_vegetables",
          "Rice",
          "Rabi_vegetables",
          "Rice",
          "Rabi_vegetables",
          "Rice",
          "Rabi_vegetables",
          "Rice",
          "Rabi_vegetables",
          "Rice",
          "Rabi_vegetables",
          "Rice",
          "Rabi_vegetables",
          "Rice",
          "Rabi_vegetables",
          "Rice",
          "Rabi_vegetables",
          "Rice",
          "Rabi_vegetables",
          "Rice",
          "Rabi_vegetables",
          "Rice",
          "Rabi_vegetables",
          "Rice",
          "Rabi_vegetables",
          "Rice",
          "Rabi_vegetables",
          "Rice",
          "Rabi_vegetables"
         ],
         "xaxis": "x",
         "y": [
          0.77,
          0.77,
          0.8,
          0.8,
          0.81,
          0.81,
          0.78,
          0.78,
          0.79,
          0.79,
          0.8,
          0.8,
          0.76,
          0.76,
          0.73,
          0.73,
          0.79,
          0.79,
          0.81,
          0.81,
          0.79,
          0.79,
          0.81,
          0.81,
          0.81,
          0.81,
          0.79,
          0.79,
          0.81,
          0.81,
          0.77,
          0.77,
          0.81,
          0.81,
          0.78,
          0.78,
          0.7,
          0.7,
          0.76,
          0.76,
          0.67,
          0.67,
          0.69,
          0.69,
          0.66,
          0.66,
          0.69,
          0.69,
          0.65,
          0.65,
          0.69,
          0.69,
          0.64,
          0.64,
          0.66,
          0.66,
          0.65,
          0.65,
          0.64,
          0.64,
          0.64,
          0.64,
          0.64,
          0.64,
          0.66,
          0.66,
          0.7,
          0.7,
          0.7,
          0.7,
          0.67,
          0.67,
          0.65,
          0.65,
          0.68,
          0.68,
          0.66,
          0.66,
          0.65,
          0.65,
          0.67,
          0.67,
          0.67,
          0.67,
          0.66,
          0.66,
          0.68,
          0.68,
          0.66,
          0.66,
          0.64,
          0.64,
          0.65,
          0.65,
          0.63,
          0.63,
          0.65,
          0.65,
          0.65,
          0.65,
          0.65,
          0.65,
          0.66,
          0.66,
          0.64,
          0.64,
          0.64,
          0.64,
          0.64,
          0.64,
          0.58,
          0.58,
          0.63,
          0.63,
          0.64,
          0.64,
          0.62,
          0.62,
          0.63,
          0.63,
          0.59,
          0.59,
          0.55,
          0.55,
          0.55,
          0.55,
          0.54,
          0.54,
          0.55,
          0.55,
          0.64,
          0.64,
          0.62,
          0.62,
          0.63,
          0.63,
          0.61,
          0.61,
          0.58,
          0.58,
          0.58,
          0.58,
          0.57,
          0.57,
          0.62,
          0.62,
          0.64,
          0.64,
          0.61,
          0.61,
          0.61,
          0.61,
          0.64,
          0.64,
          0.62,
          0.62,
          0.59,
          0.59,
          0.62,
          0.62,
          0.59,
          0.59,
          0.57,
          0.57,
          0.61,
          0.61,
          0.6,
          0.6,
          0.6,
          0.6,
          0.61,
          0.61,
          0.57,
          0.57,
          0.59,
          0.59,
          0.6,
          0.6,
          0.6,
          0.6,
          0.63,
          0.63,
          0.61,
          0.61,
          0.61,
          0.61,
          0.59,
          0.59,
          0.58,
          0.58,
          0.58,
          0.58,
          0.56,
          0.56,
          0.54,
          0.54,
          0.56,
          0.56,
          0.53,
          0.53,
          0.53,
          0.53,
          0.49,
          0.49,
          0.51,
          0.51,
          0.5,
          0.5,
          0.54,
          0.54,
          0.54,
          0.54,
          0.57,
          0.57,
          0.56,
          0.56,
          0.59,
          0.59,
          0.57,
          0.57,
          0.56,
          0.56,
          0.56,
          0.56,
          0.54,
          0.54,
          0.54,
          0.54,
          0.53,
          0.53,
          0.53,
          0.53,
          0.56,
          0.56,
          0.55,
          0.55,
          0.56,
          0.56,
          0.51,
          0.51,
          0.5,
          0.5,
          0.49,
          0.49,
          0.5292746718911038,
          0.5292746718911038,
          0.5673295863383314,
          0.5673295863383314,
          0.5469869388922042,
          0.5469869388922042,
          0.5517842686274317,
          0.5517842686274317,
          0.5294335204341897,
          0.5294335204341897,
          0.5120519167415206,
          0.5120519167415206,
          0.5163903964321814,
          0.5163903964321814,
          0.5490903952523043,
          0.5490903952523043,
          0.5374375298543723,
          0.5374375298543723,
          0.5390300609951898,
          0.5390300609951898,
          0.5345167228742377,
          0.5345167228742377,
          0.5181553051114338,
          0.5181553051114338,
          0.5200503038495287,
          0.5200503038495287,
          0.540713823452565,
          0.540713823452565,
          0.5455697253145017,
          0.5455697253145017,
          0.532440389539966,
          0.532440389539966,
          0.5562385407475352,
          0.5562385407475352,
          0.5890845994442037,
          0.5890845994442037,
          0.5038733952473186,
          0.5038733952473186,
          0.5719238435714158,
          0.5719238435714158,
          0.5255513016225077,
          0.5255513016225077,
          0.5116950821174602,
          0.5116950821174602,
          0.5800473007622,
          0.5800473007622,
          0.5714942029161755,
          0.5714942029161755,
          0.5980357524785498,
          0.5980357524785498,
          0.5376045431641255,
          0.5376045431641255,
          0.6142740418029718,
          0.6142740418029718,
          0.5018176826058021,
          0.5018176826058021,
          0.5568026808074729,
          0.5568026808074729,
          0.5635288711595275,
          0.5635288711595275,
          0.5699697367219909,
          0.5699697367219909,
          0.583857210188656,
          0.583857210188656,
          0.609387845791203,
          0.609387845791203,
          0.5938850768866752,
          0.5938850768866752,
          0.6495533228575427,
          0.6495533228575427,
          0.6040794808851634,
          0.6040794808851634,
          0.5911706293048771,
          0.5911706293048771,
          0.5594790872534904,
          0.5594790872534904,
          0.5978812829998068,
          0.5978812829998068,
          0.5618115284448213,
          0.5618115284448213,
          0.5880776658885131,
          0.5880776658885131,
          0.575558390840257,
          0.575558390840257,
          0.555106509674559,
          0.555106509674559,
          0.5144639419975439,
          0.5144639419975439,
          0.5403236767432588,
          0.5403236767432588,
          0.5119750386845472,
          0.5119750386845472,
          0.48618095171565234,
          0.48618095171565234,
          0.4975332944953886,
          0.4975332944953886,
          0.5016314432399687,
          0.5016314432399687,
          0.5268052521876643,
          0.5268052521876643
         ],
         "yaxis": "y"
        }
       ],
       "layout": {
        "barmode": "relative",
        "legend": {
         "tracegroupgap": 0
        },
        "margin": {
         "t": 60
        },
        "template": {
         "data": {
          "bar": [
           {
            "error_x": {
             "color": "#2a3f5f"
            },
            "error_y": {
             "color": "#2a3f5f"
            },
            "marker": {
             "line": {
              "color": "#E5ECF6",
              "width": 0.5
             },
             "pattern": {
              "fillmode": "overlay",
              "size": 10,
              "solidity": 0.2
             }
            },
            "type": "bar"
           }
          ],
          "barpolar": [
           {
            "marker": {
             "line": {
              "color": "#E5ECF6",
              "width": 0.5
             },
             "pattern": {
              "fillmode": "overlay",
              "size": 10,
              "solidity": 0.2
             }
            },
            "type": "barpolar"
           }
          ],
          "carpet": [
           {
            "aaxis": {
             "endlinecolor": "#2a3f5f",
             "gridcolor": "white",
             "linecolor": "white",
             "minorgridcolor": "white",
             "startlinecolor": "#2a3f5f"
            },
            "baxis": {
             "endlinecolor": "#2a3f5f",
             "gridcolor": "white",
             "linecolor": "white",
             "minorgridcolor": "white",
             "startlinecolor": "#2a3f5f"
            },
            "type": "carpet"
           }
          ],
          "choropleth": [
           {
            "colorbar": {
             "outlinewidth": 0,
             "ticks": ""
            },
            "type": "choropleth"
           }
          ],
          "contour": [
           {
            "colorbar": {
             "outlinewidth": 0,
             "ticks": ""
            },
            "colorscale": [
             [
              0,
              "#0d0887"
             ],
             [
              0.1111111111111111,
              "#46039f"
             ],
             [
              0.2222222222222222,
              "#7201a8"
             ],
             [
              0.3333333333333333,
              "#9c179e"
             ],
             [
              0.4444444444444444,
              "#bd3786"
             ],
             [
              0.5555555555555556,
              "#d8576b"
             ],
             [
              0.6666666666666666,
              "#ed7953"
             ],
             [
              0.7777777777777778,
              "#fb9f3a"
             ],
             [
              0.8888888888888888,
              "#fdca26"
             ],
             [
              1,
              "#f0f921"
             ]
            ],
            "type": "contour"
           }
          ],
          "contourcarpet": [
           {
            "colorbar": {
             "outlinewidth": 0,
             "ticks": ""
            },
            "type": "contourcarpet"
           }
          ],
          "heatmap": [
           {
            "colorbar": {
             "outlinewidth": 0,
             "ticks": ""
            },
            "colorscale": [
             [
              0,
              "#0d0887"
             ],
             [
              0.1111111111111111,
              "#46039f"
             ],
             [
              0.2222222222222222,
              "#7201a8"
             ],
             [
              0.3333333333333333,
              "#9c179e"
             ],
             [
              0.4444444444444444,
              "#bd3786"
             ],
             [
              0.5555555555555556,
              "#d8576b"
             ],
             [
              0.6666666666666666,
              "#ed7953"
             ],
             [
              0.7777777777777778,
              "#fb9f3a"
             ],
             [
              0.8888888888888888,
              "#fdca26"
             ],
             [
              1,
              "#f0f921"
             ]
            ],
            "type": "heatmap"
           }
          ],
          "heatmapgl": [
           {
            "colorbar": {
             "outlinewidth": 0,
             "ticks": ""
            },
            "colorscale": [
             [
              0,
              "#0d0887"
             ],
             [
              0.1111111111111111,
              "#46039f"
             ],
             [
              0.2222222222222222,
              "#7201a8"
             ],
             [
              0.3333333333333333,
              "#9c179e"
             ],
             [
              0.4444444444444444,
              "#bd3786"
             ],
             [
              0.5555555555555556,
              "#d8576b"
             ],
             [
              0.6666666666666666,
              "#ed7953"
             ],
             [
              0.7777777777777778,
              "#fb9f3a"
             ],
             [
              0.8888888888888888,
              "#fdca26"
             ],
             [
              1,
              "#f0f921"
             ]
            ],
            "type": "heatmapgl"
           }
          ],
          "histogram": [
           {
            "marker": {
             "pattern": {
              "fillmode": "overlay",
              "size": 10,
              "solidity": 0.2
             }
            },
            "type": "histogram"
           }
          ],
          "histogram2d": [
           {
            "colorbar": {
             "outlinewidth": 0,
             "ticks": ""
            },
            "colorscale": [
             [
              0,
              "#0d0887"
             ],
             [
              0.1111111111111111,
              "#46039f"
             ],
             [
              0.2222222222222222,
              "#7201a8"
             ],
             [
              0.3333333333333333,
              "#9c179e"
             ],
             [
              0.4444444444444444,
              "#bd3786"
             ],
             [
              0.5555555555555556,
              "#d8576b"
             ],
             [
              0.6666666666666666,
              "#ed7953"
             ],
             [
              0.7777777777777778,
              "#fb9f3a"
             ],
             [
              0.8888888888888888,
              "#fdca26"
             ],
             [
              1,
              "#f0f921"
             ]
            ],
            "type": "histogram2d"
           }
          ],
          "histogram2dcontour": [
           {
            "colorbar": {
             "outlinewidth": 0,
             "ticks": ""
            },
            "colorscale": [
             [
              0,
              "#0d0887"
             ],
             [
              0.1111111111111111,
              "#46039f"
             ],
             [
              0.2222222222222222,
              "#7201a8"
             ],
             [
              0.3333333333333333,
              "#9c179e"
             ],
             [
              0.4444444444444444,
              "#bd3786"
             ],
             [
              0.5555555555555556,
              "#d8576b"
             ],
             [
              0.6666666666666666,
              "#ed7953"
             ],
             [
              0.7777777777777778,
              "#fb9f3a"
             ],
             [
              0.8888888888888888,
              "#fdca26"
             ],
             [
              1,
              "#f0f921"
             ]
            ],
            "type": "histogram2dcontour"
           }
          ],
          "mesh3d": [
           {
            "colorbar": {
             "outlinewidth": 0,
             "ticks": ""
            },
            "type": "mesh3d"
           }
          ],
          "parcoords": [
           {
            "line": {
             "colorbar": {
              "outlinewidth": 0,
              "ticks": ""
             }
            },
            "type": "parcoords"
           }
          ],
          "pie": [
           {
            "automargin": true,
            "type": "pie"
           }
          ],
          "scatter": [
           {
            "marker": {
             "colorbar": {
              "outlinewidth": 0,
              "ticks": ""
             }
            },
            "type": "scatter"
           }
          ],
          "scatter3d": [
           {
            "line": {
             "colorbar": {
              "outlinewidth": 0,
              "ticks": ""
             }
            },
            "marker": {
             "colorbar": {
              "outlinewidth": 0,
              "ticks": ""
             }
            },
            "type": "scatter3d"
           }
          ],
          "scattercarpet": [
           {
            "marker": {
             "colorbar": {
              "outlinewidth": 0,
              "ticks": ""
             }
            },
            "type": "scattercarpet"
           }
          ],
          "scattergeo": [
           {
            "marker": {
             "colorbar": {
              "outlinewidth": 0,
              "ticks": ""
             }
            },
            "type": "scattergeo"
           }
          ],
          "scattergl": [
           {
            "marker": {
             "colorbar": {
              "outlinewidth": 0,
              "ticks": ""
             }
            },
            "type": "scattergl"
           }
          ],
          "scattermapbox": [
           {
            "marker": {
             "colorbar": {
              "outlinewidth": 0,
              "ticks": ""
             }
            },
            "type": "scattermapbox"
           }
          ],
          "scatterpolar": [
           {
            "marker": {
             "colorbar": {
              "outlinewidth": 0,
              "ticks": ""
             }
            },
            "type": "scatterpolar"
           }
          ],
          "scatterpolargl": [
           {
            "marker": {
             "colorbar": {
              "outlinewidth": 0,
              "ticks": ""
             }
            },
            "type": "scatterpolargl"
           }
          ],
          "scatterternary": [
           {
            "marker": {
             "colorbar": {
              "outlinewidth": 0,
              "ticks": ""
             }
            },
            "type": "scatterternary"
           }
          ],
          "surface": [
           {
            "colorbar": {
             "outlinewidth": 0,
             "ticks": ""
            },
            "colorscale": [
             [
              0,
              "#0d0887"
             ],
             [
              0.1111111111111111,
              "#46039f"
             ],
             [
              0.2222222222222222,
              "#7201a8"
             ],
             [
              0.3333333333333333,
              "#9c179e"
             ],
             [
              0.4444444444444444,
              "#bd3786"
             ],
             [
              0.5555555555555556,
              "#d8576b"
             ],
             [
              0.6666666666666666,
              "#ed7953"
             ],
             [
              0.7777777777777778,
              "#fb9f3a"
             ],
             [
              0.8888888888888888,
              "#fdca26"
             ],
             [
              1,
              "#f0f921"
             ]
            ],
            "type": "surface"
           }
          ],
          "table": [
           {
            "cells": {
             "fill": {
              "color": "#EBF0F8"
             },
             "line": {
              "color": "white"
             }
            },
            "header": {
             "fill": {
              "color": "#C8D4E3"
             },
             "line": {
              "color": "white"
             }
            },
            "type": "table"
           }
          ]
         },
         "layout": {
          "annotationdefaults": {
           "arrowcolor": "#2a3f5f",
           "arrowhead": 0,
           "arrowwidth": 1
          },
          "autotypenumbers": "strict",
          "coloraxis": {
           "colorbar": {
            "outlinewidth": 0,
            "ticks": ""
           }
          },
          "colorscale": {
           "diverging": [
            [
             0,
             "#8e0152"
            ],
            [
             0.1,
             "#c51b7d"
            ],
            [
             0.2,
             "#de77ae"
            ],
            [
             0.3,
             "#f1b6da"
            ],
            [
             0.4,
             "#fde0ef"
            ],
            [
             0.5,
             "#f7f7f7"
            ],
            [
             0.6,
             "#e6f5d0"
            ],
            [
             0.7,
             "#b8e186"
            ],
            [
             0.8,
             "#7fbc41"
            ],
            [
             0.9,
             "#4d9221"
            ],
            [
             1,
             "#276419"
            ]
           ],
           "sequential": [
            [
             0,
             "#0d0887"
            ],
            [
             0.1111111111111111,
             "#46039f"
            ],
            [
             0.2222222222222222,
             "#7201a8"
            ],
            [
             0.3333333333333333,
             "#9c179e"
            ],
            [
             0.4444444444444444,
             "#bd3786"
            ],
            [
             0.5555555555555556,
             "#d8576b"
            ],
            [
             0.6666666666666666,
             "#ed7953"
            ],
            [
             0.7777777777777778,
             "#fb9f3a"
            ],
            [
             0.8888888888888888,
             "#fdca26"
            ],
            [
             1,
             "#f0f921"
            ]
           ],
           "sequentialminus": [
            [
             0,
             "#0d0887"
            ],
            [
             0.1111111111111111,
             "#46039f"
            ],
            [
             0.2222222222222222,
             "#7201a8"
            ],
            [
             0.3333333333333333,
             "#9c179e"
            ],
            [
             0.4444444444444444,
             "#bd3786"
            ],
            [
             0.5555555555555556,
             "#d8576b"
            ],
            [
             0.6666666666666666,
             "#ed7953"
            ],
            [
             0.7777777777777778,
             "#fb9f3a"
            ],
            [
             0.8888888888888888,
             "#fdca26"
            ],
            [
             1,
             "#f0f921"
            ]
           ]
          },
          "colorway": [
           "#636efa",
           "#EF553B",
           "#00cc96",
           "#ab63fa",
           "#FFA15A",
           "#19d3f3",
           "#FF6692",
           "#B6E880",
           "#FF97FF",
           "#FECB52"
          ],
          "font": {
           "color": "#2a3f5f"
          },
          "geo": {
           "bgcolor": "white",
           "lakecolor": "white",
           "landcolor": "#E5ECF6",
           "showlakes": true,
           "showland": true,
           "subunitcolor": "white"
          },
          "hoverlabel": {
           "align": "left"
          },
          "hovermode": "closest",
          "mapbox": {
           "style": "light"
          },
          "paper_bgcolor": "white",
          "plot_bgcolor": "#E5ECF6",
          "polar": {
           "angularaxis": {
            "gridcolor": "white",
            "linecolor": "white",
            "ticks": ""
           },
           "bgcolor": "#E5ECF6",
           "radialaxis": {
            "gridcolor": "white",
            "linecolor": "white",
            "ticks": ""
           }
          },
          "scene": {
           "xaxis": {
            "backgroundcolor": "#E5ECF6",
            "gridcolor": "white",
            "gridwidth": 2,
            "linecolor": "white",
            "showbackground": true,
            "ticks": "",
            "zerolinecolor": "white"
           },
           "yaxis": {
            "backgroundcolor": "#E5ECF6",
            "gridcolor": "white",
            "gridwidth": 2,
            "linecolor": "white",
            "showbackground": true,
            "ticks": "",
            "zerolinecolor": "white"
           },
           "zaxis": {
            "backgroundcolor": "#E5ECF6",
            "gridcolor": "white",
            "gridwidth": 2,
            "linecolor": "white",
            "showbackground": true,
            "ticks": "",
            "zerolinecolor": "white"
           }
          },
          "shapedefaults": {
           "line": {
            "color": "#2a3f5f"
           }
          },
          "ternary": {
           "aaxis": {
            "gridcolor": "white",
            "linecolor": "white",
            "ticks": ""
           },
           "baxis": {
            "gridcolor": "white",
            "linecolor": "white",
            "ticks": ""
           },
           "bgcolor": "#E5ECF6",
           "caxis": {
            "gridcolor": "white",
            "linecolor": "white",
            "ticks": ""
           }
          },
          "title": {
           "x": 0.05
          },
          "xaxis": {
           "automargin": true,
           "gridcolor": "white",
           "linecolor": "white",
           "ticks": "",
           "title": {
            "standoff": 15
           },
           "zerolinecolor": "white",
           "zerolinewidth": 2
          },
          "yaxis": {
           "automargin": true,
           "gridcolor": "white",
           "linecolor": "white",
           "ticks": "",
           "title": {
            "standoff": 15
           },
           "zerolinecolor": "white",
           "zerolinewidth": 2
          }
         }
        },
        "xaxis": {
         "anchor": "y",
         "domain": [
          0,
          1
         ],
         "title": {
          "text": "Label"
         }
        },
        "yaxis": {
         "anchor": "x",
         "domain": [
          0,
          1
         ],
         "title": {
          "text": "SQI"
         }
        }
       }
      },
      "text/html": [
       "<div>                            <div id=\"1be5c55f-db6a-4de1-8420-3942667dc35b\" class=\"plotly-graph-div\" style=\"height:525px; width:100%;\"></div>            <script type=\"text/javascript\">                require([\"plotly\"], function(Plotly) {                    window.PLOTLYENV=window.PLOTLYENV || {};                                    if (document.getElementById(\"1be5c55f-db6a-4de1-8420-3942667dc35b\")) {                    Plotly.newPlot(                        \"1be5c55f-db6a-4de1-8420-3942667dc35b\",                        [{\"alignmentgroup\":\"True\",\"hovertemplate\":\"Label=%{x}<br>SQI=%{y}<extra></extra>\",\"legendgroup\":\"\",\"marker\":{\"color\":\"#636efa\",\"pattern\":{\"shape\":\"\"}},\"name\":\"\",\"offsetgroup\":\"\",\"orientation\":\"v\",\"showlegend\":false,\"textposition\":\"auto\",\"x\":[\"Rice\",\"Fallow\",\"Rice\",\"Fallow\",\"Rice\",\"Fallow\",\"Rice\",\"Fallow\",\"Rice\",\"Fallow\",\"Rice\",\"Fallow\",\"Rice\",\"Fallow\",\"Rice\",\"Fallow\",\"Rice\",\"Fallow\",\"Rice\",\"Fallow\",\"Rice\",\"Fallow\",\"Rice\",\"Fallow\",\"Rice\",\"Fallow\",\"Rice\",\"Fallow\",\"Rice\",\"Fallow\",\"Rice\",\"Fallow\",\"Rice\",\"Fallow\",\"Rice\",\"Fallow\",\"Rice\",\"Fallow\",\"Rice\",\"Fallow\",\"Rice\",\"Fallow\",\"Rice\",\"Fallow\",\"Rice\",\"Fallow\",\"Rice\",\"Fallow\",\"Rice\",\"Fallow\",\"Rice\",\"Fallow\",\"Rice\",\"Fallow\",\"Rice\",\"Fallow\",\"Rice\",\"Fallow\",\"Rice\",\"Fallow\",\"Rice\",\"Fallow\",\"Rice\",\"Fallow\",\"Rice\",\"Fallow\",\"Rice\",\"Fallow\",\"Rice\",\"Fallow\",\"Rice\",\"Fallow\",\"Rice\",\"Fallow\",\"Rice\",\"Potato\",\"Rice\",\"Potato\",\"Rice\",\"Potato\",\"Rice\",\"Potato\",\"Rice\",\"Potato\",\"Rice\",\"Potato\",\"Rice\",\"Potato\",\"Rice\",\"Potato\",\"Rice\",\"Potato\",\"Rice\",\"Potato\",\"Rice\",\"Potato\",\"Rice\",\"Potato\",\"Rice\",\"Potato\",\"Rice\",\"Potato\",\"Rice\",\"Potato\",\"Rice\",\"Fallow\",\"Rice\",\"Fallow\",\"Rice\",\"Fallow\",\"Rice\",\"Fallow\",\"Rice\",\"Fallow\",\"Rice\",\"Fallow\",\"Rice\",\"Fallow\",\"Rice\",\"Fallow\",\"Rice\",\"Fallow\",\"Rice\",\"Fallow\",\"Rice\",\"Fallow\",\"Rice\",\"Fallow\",\"Rice\",\"Fallow\",\"Rice\",\"Fallow\",\"Rice\",\"Fallow\",\"Rice\",\"Fallow\",\"Rice\",\"Fallow\",\"Rice\",\"Fallow\",\"Rice\",\"Fallow\",\"Fallow\",\"Rapseed\",\"Fallow\",\"Rapseed\",\"Fallow\",\"Rapseed\",\"Fallow\",\"Rapseed\",\"Fallow\",\"Rapseed\",\"Fallow\",\"Rapseed\",\"Fallow\",\"Rapseed\",\"Fallow\",\"Rapseed\",\"Fallow\",\"Rapseed\",\"Fallow\",\"Rapseed\",\"Fallow\",\"Rapseed\",\"Fallow\",\"Blackgram\",\"Fallow\",\"Blackgram\",\"Fallow\",\"Blackgram\",\"Fallow\",\"Blackgram\",\"Fallow\",\"Blackgram\",\"Fallow\",\"Blackgram\",\"Fallow\",\"Blackgram\",\"Fallow\",\"Blackgram\",\"Fallow\",\"Blackgram\",\"Rice\",\"Fallow\",\"Rice\",\"Fallow\",\"Rice\",\"Fallow\",\"Rice\",\"Fallow\",\"Rice\",\"Fallow\",\"Rice\",\"Fallow\",\"Rice\",\"Fallow\",\"Rice\",\"Fallow\",\"Rice\",\"Fallow\",\"Rice\",\"Fallow\",\"Rice\",\"Fallow\",\"Rice\",\"Fallow\",\"Rice\",\"Fallow\",\"Rice\",\"Fallow\",\"Rice\",\"Fallow\",\"Rice\",\"Fallow\",\"Rice\",\"Fallow\",\"Rice\",\"Fallow\",\"Rice\",\"Fallow\",\"Rice\",\"Fallow\",\"Rice\",\"Fallow\",\"Rice\",\"Fallow\",\"Rice\",\"Fallow\",\"Rice\",\"Fallow\",\"Rice\",\"Fallow\",\"Rice\",\"Fallow\",\"Rice\",\"Fallow\",\"Rice\",\"Fallow\",\"Rice\",\"Fallow\",\"Rice\",\"Fallow\",\"Rice\",\"Fallow\",\"Rice\",\"Fallow\",\"Rice\",\"Fallow\",\"Rice\",\"Fallow\",\"Rice\",\"Fallow\",\"Rice\",\"Fallow\",\"Rice\",\"Fallow\",\"Rice\",\"Fallow\",\"Rice\",\"Fallow\",\"Rice\",\"Fallow\",\"Rice\",\"Fallow\",\"Rice\",\"Fallow\",\"Rice\",\"Fallow\",\"Rice\",\"Fallow\",\"Rice\",\"Fallow\",\"Rice\",\"Fallow\",\"Rice\",\"Fallow\",\"Rice\",\"Fallow\",\"Rice\",\"Fallow\",\"Rice\",\"Fallow\",\"Rice\",\"Fallow\",\"Rice\",\"Fallow\",\"Rice\",\"Fallow\",\"Rice\",\"Fallow\",\"Rice\",\"Fallow\",\"Rice\",\"Fallow\",\"Rice\",\"Fallow\",\"Rice\",\"Fallow\",\"Rice\",\"Fallow\",\"Rice\",\"Fallow\",\"Rice\",\"Fallow\",\"Rice\",\"Rabi_vegetables\",\"Rice\",\"Rabi_vegetables\",\"Rice\",\"Rabi_vegetables\",\"Rice\",\"Rabi_vegetables\",\"Rice\",\"Rabi_vegetables\",\"Rice\",\"Rabi_vegetables\",\"Rice\",\"Rabi_vegetables\",\"Rice\",\"Rabi_vegetables\",\"Rice\",\"Rabi_vegetables\",\"Rice\",\"Rabi_vegetables\",\"Rice\",\"Rabi_vegetables\",\"Rice\",\"Rabi_vegetables\",\"Rice\",\"Rabi_vegetables\",\"Rice\",\"Rabi_vegetables\",\"Rice\",\"Rabi_vegetables\",\"Rice\",\"Rabi_vegetables\",\"Rice\",\"Rabi_vegetables\",\"Rice\",\"Rabi_vegetables\",\"Rice\",\"Rabi_vegetables\",\"Rice\",\"Rabi_vegetables\"],\"xaxis\":\"x\",\"y\":[0.77,0.77,0.8,0.8,0.81,0.81,0.78,0.78,0.79,0.79,0.8,0.8,0.76,0.76,0.73,0.73,0.79,0.79,0.81,0.81,0.79,0.79,0.81,0.81,0.81,0.81,0.79,0.79,0.81,0.81,0.77,0.77,0.81,0.81,0.78,0.78,0.7,0.7,0.76,0.76,0.67,0.67,0.69,0.69,0.66,0.66,0.69,0.69,0.65,0.65,0.69,0.69,0.64,0.64,0.66,0.66,0.65,0.65,0.64,0.64,0.64,0.64,0.64,0.64,0.66,0.66,0.7,0.7,0.7,0.7,0.67,0.67,0.65,0.65,0.68,0.68,0.66,0.66,0.65,0.65,0.67,0.67,0.67,0.67,0.66,0.66,0.68,0.68,0.66,0.66,0.64,0.64,0.65,0.65,0.63,0.63,0.65,0.65,0.65,0.65,0.65,0.65,0.66,0.66,0.64,0.64,0.64,0.64,0.64,0.64,0.58,0.58,0.63,0.63,0.64,0.64,0.62,0.62,0.63,0.63,0.59,0.59,0.55,0.55,0.55,0.55,0.54,0.54,0.55,0.55,0.64,0.64,0.62,0.62,0.63,0.63,0.61,0.61,0.58,0.58,0.58,0.58,0.57,0.57,0.62,0.62,0.64,0.64,0.61,0.61,0.61,0.61,0.64,0.64,0.62,0.62,0.59,0.59,0.62,0.62,0.59,0.59,0.57,0.57,0.61,0.61,0.6,0.6,0.6,0.6,0.61,0.61,0.57,0.57,0.59,0.59,0.6,0.6,0.6,0.6,0.63,0.63,0.61,0.61,0.61,0.61,0.59,0.59,0.58,0.58,0.58,0.58,0.56,0.56,0.54,0.54,0.56,0.56,0.53,0.53,0.53,0.53,0.49,0.49,0.51,0.51,0.5,0.5,0.54,0.54,0.54,0.54,0.57,0.57,0.56,0.56,0.59,0.59,0.57,0.57,0.56,0.56,0.56,0.56,0.54,0.54,0.54,0.54,0.53,0.53,0.53,0.53,0.56,0.56,0.55,0.55,0.56,0.56,0.51,0.51,0.5,0.5,0.49,0.49,0.5292746718911038,0.5292746718911038,0.5673295863383314,0.5673295863383314,0.5469869388922042,0.5469869388922042,0.5517842686274317,0.5517842686274317,0.5294335204341897,0.5294335204341897,0.5120519167415206,0.5120519167415206,0.5163903964321814,0.5163903964321814,0.5490903952523043,0.5490903952523043,0.5374375298543723,0.5374375298543723,0.5390300609951898,0.5390300609951898,0.5345167228742377,0.5345167228742377,0.5181553051114338,0.5181553051114338,0.5200503038495287,0.5200503038495287,0.540713823452565,0.540713823452565,0.5455697253145017,0.5455697253145017,0.532440389539966,0.532440389539966,0.5562385407475352,0.5562385407475352,0.5890845994442037,0.5890845994442037,0.5038733952473186,0.5038733952473186,0.5719238435714158,0.5719238435714158,0.5255513016225077,0.5255513016225077,0.5116950821174602,0.5116950821174602,0.5800473007622,0.5800473007622,0.5714942029161755,0.5714942029161755,0.5980357524785498,0.5980357524785498,0.5376045431641255,0.5376045431641255,0.6142740418029718,0.6142740418029718,0.5018176826058021,0.5018176826058021,0.5568026808074729,0.5568026808074729,0.5635288711595275,0.5635288711595275,0.5699697367219909,0.5699697367219909,0.583857210188656,0.583857210188656,0.609387845791203,0.609387845791203,0.5938850768866752,0.5938850768866752,0.6495533228575427,0.6495533228575427,0.6040794808851634,0.6040794808851634,0.5911706293048771,0.5911706293048771,0.5594790872534904,0.5594790872534904,0.5978812829998068,0.5978812829998068,0.5618115284448213,0.5618115284448213,0.5880776658885131,0.5880776658885131,0.575558390840257,0.575558390840257,0.555106509674559,0.555106509674559,0.5144639419975439,0.5144639419975439,0.5403236767432588,0.5403236767432588,0.5119750386845472,0.5119750386845472,0.48618095171565234,0.48618095171565234,0.4975332944953886,0.4975332944953886,0.5016314432399687,0.5016314432399687,0.5268052521876643,0.5268052521876643],\"yaxis\":\"y\",\"type\":\"bar\"}],                        {\"template\":{\"data\":{\"bar\":[{\"error_x\":{\"color\":\"#2a3f5f\"},\"error_y\":{\"color\":\"#2a3f5f\"},\"marker\":{\"line\":{\"color\":\"#E5ECF6\",\"width\":0.5},\"pattern\":{\"fillmode\":\"overlay\",\"size\":10,\"solidity\":0.2}},\"type\":\"bar\"}],\"barpolar\":[{\"marker\":{\"line\":{\"color\":\"#E5ECF6\",\"width\":0.5},\"pattern\":{\"fillmode\":\"overlay\",\"size\":10,\"solidity\":0.2}},\"type\":\"barpolar\"}],\"carpet\":[{\"aaxis\":{\"endlinecolor\":\"#2a3f5f\",\"gridcolor\":\"white\",\"linecolor\":\"white\",\"minorgridcolor\":\"white\",\"startlinecolor\":\"#2a3f5f\"},\"baxis\":{\"endlinecolor\":\"#2a3f5f\",\"gridcolor\":\"white\",\"linecolor\":\"white\",\"minorgridcolor\":\"white\",\"startlinecolor\":\"#2a3f5f\"},\"type\":\"carpet\"}],\"choropleth\":[{\"colorbar\":{\"outlinewidth\":0,\"ticks\":\"\"},\"type\":\"choropleth\"}],\"contour\":[{\"colorbar\":{\"outlinewidth\":0,\"ticks\":\"\"},\"colorscale\":[[0.0,\"#0d0887\"],[0.1111111111111111,\"#46039f\"],[0.2222222222222222,\"#7201a8\"],[0.3333333333333333,\"#9c179e\"],[0.4444444444444444,\"#bd3786\"],[0.5555555555555556,\"#d8576b\"],[0.6666666666666666,\"#ed7953\"],[0.7777777777777778,\"#fb9f3a\"],[0.8888888888888888,\"#fdca26\"],[1.0,\"#f0f921\"]],\"type\":\"contour\"}],\"contourcarpet\":[{\"colorbar\":{\"outlinewidth\":0,\"ticks\":\"\"},\"type\":\"contourcarpet\"}],\"heatmap\":[{\"colorbar\":{\"outlinewidth\":0,\"ticks\":\"\"},\"colorscale\":[[0.0,\"#0d0887\"],[0.1111111111111111,\"#46039f\"],[0.2222222222222222,\"#7201a8\"],[0.3333333333333333,\"#9c179e\"],[0.4444444444444444,\"#bd3786\"],[0.5555555555555556,\"#d8576b\"],[0.6666666666666666,\"#ed7953\"],[0.7777777777777778,\"#fb9f3a\"],[0.8888888888888888,\"#fdca26\"],[1.0,\"#f0f921\"]],\"type\":\"heatmap\"}],\"heatmapgl\":[{\"colorbar\":{\"outlinewidth\":0,\"ticks\":\"\"},\"colorscale\":[[0.0,\"#0d0887\"],[0.1111111111111111,\"#46039f\"],[0.2222222222222222,\"#7201a8\"],[0.3333333333333333,\"#9c179e\"],[0.4444444444444444,\"#bd3786\"],[0.5555555555555556,\"#d8576b\"],[0.6666666666666666,\"#ed7953\"],[0.7777777777777778,\"#fb9f3a\"],[0.8888888888888888,\"#fdca26\"],[1.0,\"#f0f921\"]],\"type\":\"heatmapgl\"}],\"histogram\":[{\"marker\":{\"pattern\":{\"fillmode\":\"overlay\",\"size\":10,\"solidity\":0.2}},\"type\":\"histogram\"}],\"histogram2d\":[{\"colorbar\":{\"outlinewidth\":0,\"ticks\":\"\"},\"colorscale\":[[0.0,\"#0d0887\"],[0.1111111111111111,\"#46039f\"],[0.2222222222222222,\"#7201a8\"],[0.3333333333333333,\"#9c179e\"],[0.4444444444444444,\"#bd3786\"],[0.5555555555555556,\"#d8576b\"],[0.6666666666666666,\"#ed7953\"],[0.7777777777777778,\"#fb9f3a\"],[0.8888888888888888,\"#fdca26\"],[1.0,\"#f0f921\"]],\"type\":\"histogram2d\"}],\"histogram2dcontour\":[{\"colorbar\":{\"outlinewidth\":0,\"ticks\":\"\"},\"colorscale\":[[0.0,\"#0d0887\"],[0.1111111111111111,\"#46039f\"],[0.2222222222222222,\"#7201a8\"],[0.3333333333333333,\"#9c179e\"],[0.4444444444444444,\"#bd3786\"],[0.5555555555555556,\"#d8576b\"],[0.6666666666666666,\"#ed7953\"],[0.7777777777777778,\"#fb9f3a\"],[0.8888888888888888,\"#fdca26\"],[1.0,\"#f0f921\"]],\"type\":\"histogram2dcontour\"}],\"mesh3d\":[{\"colorbar\":{\"outlinewidth\":0,\"ticks\":\"\"},\"type\":\"mesh3d\"}],\"parcoords\":[{\"line\":{\"colorbar\":{\"outlinewidth\":0,\"ticks\":\"\"}},\"type\":\"parcoords\"}],\"pie\":[{\"automargin\":true,\"type\":\"pie\"}],\"scatter\":[{\"marker\":{\"colorbar\":{\"outlinewidth\":0,\"ticks\":\"\"}},\"type\":\"scatter\"}],\"scatter3d\":[{\"line\":{\"colorbar\":{\"outlinewidth\":0,\"ticks\":\"\"}},\"marker\":{\"colorbar\":{\"outlinewidth\":0,\"ticks\":\"\"}},\"type\":\"scatter3d\"}],\"scattercarpet\":[{\"marker\":{\"colorbar\":{\"outlinewidth\":0,\"ticks\":\"\"}},\"type\":\"scattercarpet\"}],\"scattergeo\":[{\"marker\":{\"colorbar\":{\"outlinewidth\":0,\"ticks\":\"\"}},\"type\":\"scattergeo\"}],\"scattergl\":[{\"marker\":{\"colorbar\":{\"outlinewidth\":0,\"ticks\":\"\"}},\"type\":\"scattergl\"}],\"scattermapbox\":[{\"marker\":{\"colorbar\":{\"outlinewidth\":0,\"ticks\":\"\"}},\"type\":\"scattermapbox\"}],\"scatterpolar\":[{\"marker\":{\"colorbar\":{\"outlinewidth\":0,\"ticks\":\"\"}},\"type\":\"scatterpolar\"}],\"scatterpolargl\":[{\"marker\":{\"colorbar\":{\"outlinewidth\":0,\"ticks\":\"\"}},\"type\":\"scatterpolargl\"}],\"scatterternary\":[{\"marker\":{\"colorbar\":{\"outlinewidth\":0,\"ticks\":\"\"}},\"type\":\"scatterternary\"}],\"surface\":[{\"colorbar\":{\"outlinewidth\":0,\"ticks\":\"\"},\"colorscale\":[[0.0,\"#0d0887\"],[0.1111111111111111,\"#46039f\"],[0.2222222222222222,\"#7201a8\"],[0.3333333333333333,\"#9c179e\"],[0.4444444444444444,\"#bd3786\"],[0.5555555555555556,\"#d8576b\"],[0.6666666666666666,\"#ed7953\"],[0.7777777777777778,\"#fb9f3a\"],[0.8888888888888888,\"#fdca26\"],[1.0,\"#f0f921\"]],\"type\":\"surface\"}],\"table\":[{\"cells\":{\"fill\":{\"color\":\"#EBF0F8\"},\"line\":{\"color\":\"white\"}},\"header\":{\"fill\":{\"color\":\"#C8D4E3\"},\"line\":{\"color\":\"white\"}},\"type\":\"table\"}]},\"layout\":{\"annotationdefaults\":{\"arrowcolor\":\"#2a3f5f\",\"arrowhead\":0,\"arrowwidth\":1},\"autotypenumbers\":\"strict\",\"coloraxis\":{\"colorbar\":{\"outlinewidth\":0,\"ticks\":\"\"}},\"colorscale\":{\"diverging\":[[0,\"#8e0152\"],[0.1,\"#c51b7d\"],[0.2,\"#de77ae\"],[0.3,\"#f1b6da\"],[0.4,\"#fde0ef\"],[0.5,\"#f7f7f7\"],[0.6,\"#e6f5d0\"],[0.7,\"#b8e186\"],[0.8,\"#7fbc41\"],[0.9,\"#4d9221\"],[1,\"#276419\"]],\"sequential\":[[0.0,\"#0d0887\"],[0.1111111111111111,\"#46039f\"],[0.2222222222222222,\"#7201a8\"],[0.3333333333333333,\"#9c179e\"],[0.4444444444444444,\"#bd3786\"],[0.5555555555555556,\"#d8576b\"],[0.6666666666666666,\"#ed7953\"],[0.7777777777777778,\"#fb9f3a\"],[0.8888888888888888,\"#fdca26\"],[1.0,\"#f0f921\"]],\"sequentialminus\":[[0.0,\"#0d0887\"],[0.1111111111111111,\"#46039f\"],[0.2222222222222222,\"#7201a8\"],[0.3333333333333333,\"#9c179e\"],[0.4444444444444444,\"#bd3786\"],[0.5555555555555556,\"#d8576b\"],[0.6666666666666666,\"#ed7953\"],[0.7777777777777778,\"#fb9f3a\"],[0.8888888888888888,\"#fdca26\"],[1.0,\"#f0f921\"]]},\"colorway\":[\"#636efa\",\"#EF553B\",\"#00cc96\",\"#ab63fa\",\"#FFA15A\",\"#19d3f3\",\"#FF6692\",\"#B6E880\",\"#FF97FF\",\"#FECB52\"],\"font\":{\"color\":\"#2a3f5f\"},\"geo\":{\"bgcolor\":\"white\",\"lakecolor\":\"white\",\"landcolor\":\"#E5ECF6\",\"showlakes\":true,\"showland\":true,\"subunitcolor\":\"white\"},\"hoverlabel\":{\"align\":\"left\"},\"hovermode\":\"closest\",\"mapbox\":{\"style\":\"light\"},\"paper_bgcolor\":\"white\",\"plot_bgcolor\":\"#E5ECF6\",\"polar\":{\"angularaxis\":{\"gridcolor\":\"white\",\"linecolor\":\"white\",\"ticks\":\"\"},\"bgcolor\":\"#E5ECF6\",\"radialaxis\":{\"gridcolor\":\"white\",\"linecolor\":\"white\",\"ticks\":\"\"}},\"scene\":{\"xaxis\":{\"backgroundcolor\":\"#E5ECF6\",\"gridcolor\":\"white\",\"gridwidth\":2,\"linecolor\":\"white\",\"showbackground\":true,\"ticks\":\"\",\"zerolinecolor\":\"white\"},\"yaxis\":{\"backgroundcolor\":\"#E5ECF6\",\"gridcolor\":\"white\",\"gridwidth\":2,\"linecolor\":\"white\",\"showbackground\":true,\"ticks\":\"\",\"zerolinecolor\":\"white\"},\"zaxis\":{\"backgroundcolor\":\"#E5ECF6\",\"gridcolor\":\"white\",\"gridwidth\":2,\"linecolor\":\"white\",\"showbackground\":true,\"ticks\":\"\",\"zerolinecolor\":\"white\"}},\"shapedefaults\":{\"line\":{\"color\":\"#2a3f5f\"}},\"ternary\":{\"aaxis\":{\"gridcolor\":\"white\",\"linecolor\":\"white\",\"ticks\":\"\"},\"baxis\":{\"gridcolor\":\"white\",\"linecolor\":\"white\",\"ticks\":\"\"},\"bgcolor\":\"#E5ECF6\",\"caxis\":{\"gridcolor\":\"white\",\"linecolor\":\"white\",\"ticks\":\"\"}},\"title\":{\"x\":0.05},\"xaxis\":{\"automargin\":true,\"gridcolor\":\"white\",\"linecolor\":\"white\",\"ticks\":\"\",\"title\":{\"standoff\":15},\"zerolinecolor\":\"white\",\"zerolinewidth\":2},\"yaxis\":{\"automargin\":true,\"gridcolor\":\"white\",\"linecolor\":\"white\",\"ticks\":\"\",\"title\":{\"standoff\":15},\"zerolinecolor\":\"white\",\"zerolinewidth\":2}}},\"xaxis\":{\"anchor\":\"y\",\"domain\":[0.0,1.0],\"title\":{\"text\":\"Label\"}},\"yaxis\":{\"anchor\":\"x\",\"domain\":[0.0,1.0],\"title\":{\"text\":\"SQI\"}},\"legend\":{\"tracegroupgap\":0},\"margin\":{\"t\":60},\"barmode\":\"relative\"},                        {\"responsive\": true}                    ).then(function(){\n",
       "                            \n",
       "var gd = document.getElementById('1be5c55f-db6a-4de1-8420-3942667dc35b');\n",
       "var x = new MutationObserver(function (mutations, observer) {{\n",
       "        var display = window.getComputedStyle(gd).display;\n",
       "        if (!display || display === 'none') {{\n",
       "            console.log([gd, 'removed!']);\n",
       "            Plotly.purge(gd);\n",
       "            observer.disconnect();\n",
       "        }}\n",
       "}});\n",
       "\n",
       "// Listen for the removal of the full notebook cells\n",
       "var notebookContainer = gd.closest('#notebook-container');\n",
       "if (notebookContainer) {{\n",
       "    x.observe(notebookContainer, {childList: true});\n",
       "}}\n",
       "\n",
       "// Listen for the clearing of the current output cell\n",
       "var outputEl = gd.closest('.output');\n",
       "if (outputEl) {{\n",
       "    x.observe(outputEl, {childList: true});\n",
       "}}\n",
       "\n",
       "                        })                };                });            </script>        </div>"
      ]
     },
     "metadata": {},
     "output_type": "display_data"
    }
   ],
   "source": [
    "fig1= px.bar(crop_summary_new, x='Label', y='SQI')\n",
    "fig1.show()"
   ]
  },
  {
   "cell_type": "code",
   "execution_count": 77,
   "id": "b73285b9",
   "metadata": {},
   "outputs": [
    {
     "data": {
      "text/html": [
       "<div>\n",
       "<style scoped>\n",
       "    .dataframe tbody tr th:only-of-type {\n",
       "        vertical-align: middle;\n",
       "    }\n",
       "\n",
       "    .dataframe tbody tr th {\n",
       "        vertical-align: top;\n",
       "    }\n",
       "\n",
       "    .dataframe thead th {\n",
       "        text-align: right;\n",
       "    }\n",
       "</style>\n",
       "<table border=\"1\" class=\"dataframe\">\n",
       "  <thead>\n",
       "    <tr style=\"text-align: right;\">\n",
       "      <th></th>\n",
       "      <th>SAMPLE</th>\n",
       "      <th>LATITUTE</th>\n",
       "      <th>LONGITUDE</th>\n",
       "      <th>SQI</th>\n",
       "    </tr>\n",
       "  </thead>\n",
       "  <tbody>\n",
       "    <tr>\n",
       "      <th>SAMPLE</th>\n",
       "      <td>1.000000</td>\n",
       "      <td>0.768939</td>\n",
       "      <td>0.946843</td>\n",
       "      <td>-0.825471</td>\n",
       "    </tr>\n",
       "    <tr>\n",
       "      <th>LATITUTE</th>\n",
       "      <td>0.768939</td>\n",
       "      <td>1.000000</td>\n",
       "      <td>0.755021</td>\n",
       "      <td>-0.671707</td>\n",
       "    </tr>\n",
       "    <tr>\n",
       "      <th>LONGITUDE</th>\n",
       "      <td>0.946843</td>\n",
       "      <td>0.755021</td>\n",
       "      <td>1.000000</td>\n",
       "      <td>-0.879340</td>\n",
       "    </tr>\n",
       "    <tr>\n",
       "      <th>SQI</th>\n",
       "      <td>-0.825471</td>\n",
       "      <td>-0.671707</td>\n",
       "      <td>-0.879340</td>\n",
       "      <td>1.000000</td>\n",
       "    </tr>\n",
       "  </tbody>\n",
       "</table>\n",
       "</div>"
      ],
      "text/plain": [
       "             SAMPLE  LATITUTE  LONGITUDE       SQI\n",
       "SAMPLE     1.000000  0.768939   0.946843 -0.825471\n",
       "LATITUTE   0.768939  1.000000   0.755021 -0.671707\n",
       "LONGITUDE  0.946843  0.755021   1.000000 -0.879340\n",
       "SQI       -0.825471 -0.671707  -0.879340  1.000000"
      ]
     },
     "execution_count": 77,
     "metadata": {},
     "output_type": "execute_result"
    }
   ],
   "source": [
    "df_recommended.corr()"
   ]
  },
  {
   "cell_type": "code",
   "execution_count": 84,
   "id": "1e074e39",
   "metadata": {},
   "outputs": [
    {
     "data": {
      "image/png": "[encoded data removed]",
      "text/plain": [
       "<Figure size 1080x648 with 2 Axes>"
      ]
     },
     "metadata": {
      "needs_background": "light"
     },
     "output_type": "display_data"
    }
   ],
   "source": [
    "fig, ax=plt.subplots(1,1, figsize=(15,9))\n",
    "sns.heatmap(df_recommended.corr(),annot=True, cmap='Wistia')\n",
    "ax.set(xlabel='features')\n",
    "ax.set(ylabel='features')\n",
    "plt.title('Corelation between different features', fontsize=15, c='black')\n",
    "plt.show()"
   ]
  },
  {
   "cell_type": "code",
   "execution_count": 94,
   "id": "0df771ff",
   "metadata": {},
   "outputs": [],
   "source": [
    "df_recommended_encoded= pd.get_dummies(df_recommended, columns=['Season','TEXTURAL CLASS'])"
   ]
  },
  {
   "cell_type": "code",
   "execution_count": 95,
   "id": "9fdb06fd",
   "metadata": {},
   "outputs": [
    {
     "data": {
      "text/html": [
       "<div>\n",
       "<style scoped>\n",
       "    .dataframe tbody tr th:only-of-type {\n",
       "        vertical-align: middle;\n",
       "    }\n",
       "\n",
       "    .dataframe tbody tr th {\n",
       "        vertical-align: top;\n",
       "    }\n",
       "\n",
       "    .dataframe thead th {\n",
       "        text-align: right;\n",
       "    }\n",
       "</style>\n",
       "<table border=\"1\" class=\"dataframe\">\n",
       "  <thead>\n",
       "    <tr style=\"text-align: right;\">\n",
       "      <th></th>\n",
       "      <th>SAMPLE</th>\n",
       "      <th>LATITUTE</th>\n",
       "      <th>LONGITUDE</th>\n",
       "      <th>SQI</th>\n",
       "      <th>Label</th>\n",
       "      <th>Season_Kharif</th>\n",
       "      <th>Season_Rabi</th>\n",
       "      <th>TEXTURAL CLASS_Clay loam</th>\n",
       "      <th>TEXTURAL CLASS_Sandy loam</th>\n",
       "      <th>TEXTURAL CLASS_clay loam</th>\n",
       "      <th>TEXTURAL CLASS_sandy loam</th>\n",
       "    </tr>\n",
       "  </thead>\n",
       "  <tbody>\n",
       "    <tr>\n",
       "      <th>0</th>\n",
       "      <td>1</td>\n",
       "      <td>26.733005</td>\n",
       "      <td>93.077304</td>\n",
       "      <td>0.77</td>\n",
       "      <td>Rice</td>\n",
       "      <td>1</td>\n",
       "      <td>0</td>\n",
       "      <td>1</td>\n",
       "      <td>0</td>\n",
       "      <td>0</td>\n",
       "      <td>0</td>\n",
       "    </tr>\n",
       "    <tr>\n",
       "      <th>1</th>\n",
       "      <td>2</td>\n",
       "      <td>26.733005</td>\n",
       "      <td>93.077304</td>\n",
       "      <td>0.77</td>\n",
       "      <td>Fallow</td>\n",
       "      <td>0</td>\n",
       "      <td>1</td>\n",
       "      <td>1</td>\n",
       "      <td>0</td>\n",
       "      <td>0</td>\n",
       "      <td>0</td>\n",
       "    </tr>\n",
       "    <tr>\n",
       "      <th>6</th>\n",
       "      <td>7</td>\n",
       "      <td>26.719570</td>\n",
       "      <td>93.112062</td>\n",
       "      <td>0.80</td>\n",
       "      <td>Rice</td>\n",
       "      <td>1</td>\n",
       "      <td>0</td>\n",
       "      <td>1</td>\n",
       "      <td>0</td>\n",
       "      <td>0</td>\n",
       "      <td>0</td>\n",
       "    </tr>\n",
       "    <tr>\n",
       "      <th>7</th>\n",
       "      <td>8</td>\n",
       "      <td>26.719570</td>\n",
       "      <td>93.112062</td>\n",
       "      <td>0.80</td>\n",
       "      <td>Fallow</td>\n",
       "      <td>0</td>\n",
       "      <td>1</td>\n",
       "      <td>1</td>\n",
       "      <td>0</td>\n",
       "      <td>0</td>\n",
       "      <td>0</td>\n",
       "    </tr>\n",
       "    <tr>\n",
       "      <th>8</th>\n",
       "      <td>9</td>\n",
       "      <td>26.769529</td>\n",
       "      <td>93.076980</td>\n",
       "      <td>0.81</td>\n",
       "      <td>Rice</td>\n",
       "      <td>1</td>\n",
       "      <td>0</td>\n",
       "      <td>1</td>\n",
       "      <td>0</td>\n",
       "      <td>0</td>\n",
       "      <td>0</td>\n",
       "    </tr>\n",
       "  </tbody>\n",
       "</table>\n",
       "</div>"
      ],
      "text/plain": [
       "   SAMPLE   LATITUTE  LONGITUDE   SQI   Label  Season_Kharif  Season_Rabi  \\\n",
       "0       1  26.733005  93.077304  0.77    Rice              1            0   \n",
       "1       2  26.733005  93.077304  0.77  Fallow              0            1   \n",
       "6       7  26.719570  93.112062  0.80    Rice              1            0   \n",
       "7       8  26.719570  93.112062  0.80  Fallow              0            1   \n",
       "8       9  26.769529  93.076980  0.81    Rice              1            0   \n",
       "\n",
       "   TEXTURAL CLASS_Clay loam  TEXTURAL CLASS_Sandy loam  \\\n",
       "0                         1                          0   \n",
       "1                         1                          0   \n",
       "6                         1                          0   \n",
       "7                         1                          0   \n",
       "8                         1                          0   \n",
       "\n",
       "   TEXTURAL CLASS_clay loam  TEXTURAL CLASS_sandy loam  \n",
       "0                         0                          0  \n",
       "1                         0                          0  \n",
       "6                         0                          0  \n",
       "7                         0                          0  \n",
       "8                         0                          0  "
      ]
     },
     "execution_count": 95,
     "metadata": {},
     "output_type": "execute_result"
    }
   ],
   "source": [
    "df_recommended_encoded.head()"
   ]
  },
  {
   "cell_type": "code",
   "execution_count": 96,
   "id": "9028de3e",
   "metadata": {},
   "outputs": [],
   "source": [
    "X= df_recommended_encoded.drop('Label', axis=1)\n",
    "y= df_recommended_encoded['Label']"
   ]
  },
  {
   "cell_type": "code",
   "execution_count": 97,
   "id": "8b9b38eb",
   "metadata": {},
   "outputs": [],
   "source": [
    "\n",
    "X_train,X_test, y_train, y_test=train_test_split(X, y, test_size=0.30, shuffle=True, random_state=0)"
   ]
  },
  {
   "cell_type": "code",
   "execution_count": 98,
   "id": "158485eb",
   "metadata": {},
   "outputs": [
    {
     "data": {
      "text/plain": [
       "LGBMClassifier()"
      ]
     },
     "execution_count": 98,
     "metadata": {},
     "output_type": "execute_result"
    }
   ],
   "source": [
    "\n",
    "model= lgb.LGBMClassifier()\n",
    "model.fit(X_train,y_train)"
   ]
  },
  {
   "cell_type": "code",
   "execution_count": 111,
   "id": "7070f093",
   "metadata": {},
   "outputs": [],
   "source": [
    "y_pred=model.predict(X_test)"
   ]
  },
  {
   "cell_type": "code",
   "execution_count": 112,
   "id": "797aade0",
   "metadata": {},
   "outputs": [
    {
     "name": "stdout",
     "output_type": "stream",
     "text": [
      "LightGBM Model accuracy score is :0.9712.\n"
     ]
    }
   ],
   "source": [
    "print(\"LightGBM Model accuracy score is :{0:0.4f}.\".format(accuracy_score(y_pred,y_test)))"
   ]
  },
  {
   "cell_type": "code",
   "execution_count": 117,
   "id": "63f8a07d",
   "metadata": {},
   "outputs": [
    {
     "data": {
      "image/png": "[encoded data removed]",
      "text/plain": [
       "<Figure size 1080x1080 with 2 Axes>"
      ]
     },
     "metadata": {
      "needs_background": "light"
     },
     "output_type": "display_data"
    }
   ],
   "source": [
    "lgbm_cm= confusion_matrix(y_test,y_pred)\n",
    "plt.figure(figsize=(15,15))\n",
    "sns.heatmap(lgbm_cm, annot=True, fmt='.0f', linewidths=.5, square=True, cmap='Blues');\n",
    "plt.ylabel('Actual Label');\n",
    "plt.xlabel('Predicted Label');\n",
    "all_sample_title=\"Confusion-Matrix score:\" + str(accuracy_score(y_pred,y_test))\n",
    "plt.title(all_sample_title, size=15)\n",
    "plt.show()"
   ]
  },
  {
   "cell_type": "code",
   "execution_count": 119,
   "id": "eba3e28d",
   "metadata": {},
   "outputs": [
    {
     "name": "stdout",
     "output_type": "stream",
     "text": [
      "                 precision    recall  f1-score   support\n",
      "\n",
      "      Blackgram       1.00      1.00      1.00         3\n",
      "         Fallow       0.95      0.97      0.96        36\n",
      "         Potato       1.00      0.75      0.86         4\n",
      "Rabi_vegetables       1.00      1.00      1.00         4\n",
      "        Rapseed       0.67      1.00      0.80         2\n",
      "           Rice       1.00      0.98      0.99        55\n",
      "\n",
      "       accuracy                           0.97       104\n",
      "      macro avg       0.94      0.95      0.93       104\n",
      "   weighted avg       0.97      0.97      0.97       104\n",
      "\n"
     ]
    }
   ],
   "source": [
    "print(classification_report(y_test, y_pred))"
   ]
  },
  {
   "cell_type": "code",
   "execution_count": 120,
   "id": "270ac1f8",
   "metadata": {},
   "outputs": [],
   "source": [
    "#DecisionTreeClassifier"
   ]
  },
  {
   "cell_type": "code",
   "execution_count": 121,
   "id": "b35c9675",
   "metadata": {},
   "outputs": [
    {
     "data": {
      "text/plain": [
       "DecisionTreeClassifier(criterion='entropy', random_state=0)"
      ]
     },
     "execution_count": 121,
     "metadata": {},
     "output_type": "execute_result"
    }
   ],
   "source": [
    "classifier= DecisionTreeClassifier(criterion='entropy', random_state=0)\n",
    "classifier.fit(X_train, y_train)"
   ]
  },
  {
   "cell_type": "code",
   "execution_count": 122,
   "id": "425cb442",
   "metadata": {},
   "outputs": [],
   "source": [
    "y_pred= classifier.predict(X_test)"
   ]
  },
  {
   "cell_type": "code",
   "execution_count": 123,
   "id": "9be032d8",
   "metadata": {},
   "outputs": [
    {
     "name": "stdout",
     "output_type": "stream",
     "text": [
      "Decision tree model accuracy score:0.9808\n"
     ]
    }
   ],
   "source": [
    "print(\"Decision tree model accuracy score:{0:0.4f}\".format(accuracy_score(y_test, y_pred)))"
   ]
  },
  {
   "cell_type": "code",
   "execution_count": 124,
   "id": "e23890c9",
   "metadata": {},
   "outputs": [
    {
     "data": {
      "image/png": "[encoded data removed]",
      "text/plain": [
       "<Figure size 1080x1080 with 2 Axes>"
      ]
     },
     "metadata": {
      "needs_background": "light"
     },
     "output_type": "display_data"
    }
   ],
   "source": [
    "decisiontree_cm= confusion_matrix(y_test,y_pred)\n",
    "plt.figure(figsize=(15,15))\n",
    "sns.heatmap(decisiontree_cm, annot=True, fmt='.0f', linewidths=.5, square=True, cmap='Blues');\n",
    "plt.ylabel('Actual Label');\n",
    "plt.xlabel('Predicted Label');\n",
    "all_sample_title=\"Confusion-Matrix score:\" + str(accuracy_score(y_pred,y_test))\n",
    "plt.title(all_sample_title, size=15)\n",
    "plt.show()"
   ]
  },
  {
   "cell_type": "code",
   "execution_count": 125,
   "id": "42a0f0f9",
   "metadata": {},
   "outputs": [
    {
     "name": "stdout",
     "output_type": "stream",
     "text": [
      "                 precision    recall  f1-score   support\n",
      "\n",
      "      Blackgram       1.00      1.00      1.00         3\n",
      "         Fallow       1.00      0.94      0.97        36\n",
      "         Potato       1.00      1.00      1.00         4\n",
      "Rabi_vegetables       0.67      1.00      0.80         4\n",
      "        Rapseed       1.00      1.00      1.00         2\n",
      "           Rice       1.00      1.00      1.00        55\n",
      "\n",
      "       accuracy                           0.98       104\n",
      "      macro avg       0.94      0.99      0.96       104\n",
      "   weighted avg       0.99      0.98      0.98       104\n",
      "\n"
     ]
    }
   ],
   "source": [
    "print(classification_report(y_test, y_pred))"
   ]
  },
  {
   "cell_type": "code",
   "execution_count": 126,
   "id": "aae26a31",
   "metadata": {},
   "outputs": [
    {
     "data": {
      "text/plain": [
       "LogisticRegression(random_state=0)"
      ]
     },
     "execution_count": 126,
     "metadata": {},
     "output_type": "execute_result"
    }
   ],
   "source": [
    "classifier_lr= LogisticRegression(random_state=0)\n",
    "classifier_lr.fit(X_train, y_train)"
   ]
  },
  {
   "cell_type": "code",
   "execution_count": 127,
   "id": "b285a4e7",
   "metadata": {},
   "outputs": [],
   "source": [
    "y_pred= classifier_lr.predict(X_test)"
   ]
  },
  {
   "cell_type": "code",
   "execution_count": 128,
   "id": "bf2195ca",
   "metadata": {},
   "outputs": [
    {
     "name": "stdout",
     "output_type": "stream",
     "text": [
      "Logistic Regression model accuracy score:0.8365\n"
     ]
    }
   ],
   "source": [
    "print(\"Logistic Regression model accuracy score:{0:0.4f}\".format(accuracy_score(y_test, y_pred)))"
   ]
  },
  {
   "cell_type": "code",
   "execution_count": 129,
   "id": "7a6ae665",
   "metadata": {},
   "outputs": [
    {
     "data": {
      "image/png": "[encoded data removed]",
      "text/plain": [
       "<Figure size 1080x1080 with 2 Axes>"
      ]
     },
     "metadata": {
      "needs_background": "light"
     },
     "output_type": "display_data"
    }
   ],
   "source": [
    "logistic_cm= confusion_matrix(y_test,y_pred)\n",
    "plt.figure(figsize=(15,15))\n",
    "sns.heatmap(logistic_cm, annot=True, fmt='.0f', linewidths=.5, square=True, cmap='Blues');\n",
    "plt.ylabel('Actual Label');\n",
    "plt.xlabel('Predicted Label');\n",
    "all_sample_title=\"Confusion-Matrix score:\" + str(accuracy_score(y_pred,y_test))\n",
    "plt.title(all_sample_title, size=15)\n",
    "plt.show()"
   ]
  },
  {
   "cell_type": "code",
   "execution_count": 130,
   "id": "5f475572",
   "metadata": {},
   "outputs": [
    {
     "name": "stdout",
     "output_type": "stream",
     "text": [
      "                 precision    recall  f1-score   support\n",
      "\n",
      "      Blackgram       0.00      0.00      0.00         3\n",
      "         Fallow       0.73      0.83      0.78        36\n",
      "         Potato       0.00      0.00      0.00         4\n",
      "Rabi_vegetables       1.00      0.50      0.67         4\n",
      "        Rapseed       0.00      0.00      0.00         2\n",
      "           Rice       0.90      1.00      0.95        55\n",
      "\n",
      "       accuracy                           0.84       104\n",
      "      macro avg       0.44      0.39      0.40       104\n",
      "   weighted avg       0.77      0.84      0.80       104\n",
      "\n"
     ]
    }
   ],
   "source": [
    "print(classification_report(y_test, y_pred))"
   ]
  },
  {
   "cell_type": "code",
   "execution_count": 131,
   "id": "b320389a",
   "metadata": {},
   "outputs": [
    {
     "data": {
      "text/html": [
       "<div>\n",
       "<style scoped>\n",
       "    .dataframe tbody tr th:only-of-type {\n",
       "        vertical-align: middle;\n",
       "    }\n",
       "\n",
       "    .dataframe tbody tr th {\n",
       "        vertical-align: top;\n",
       "    }\n",
       "\n",
       "    .dataframe thead th {\n",
       "        text-align: right;\n",
       "    }\n",
       "</style>\n",
       "<table border=\"1\" class=\"dataframe\">\n",
       "  <thead>\n",
       "    <tr style=\"text-align: right;\">\n",
       "      <th></th>\n",
       "      <th>SAMPLE</th>\n",
       "      <th>LATITUTE</th>\n",
       "      <th>LONGITUDE</th>\n",
       "      <th>SQI</th>\n",
       "      <th>Season_Kharif</th>\n",
       "      <th>Season_Rabi</th>\n",
       "      <th>TEXTURAL CLASS_Clay loam</th>\n",
       "      <th>TEXTURAL CLASS_Sandy loam</th>\n",
       "      <th>TEXTURAL CLASS_clay loam</th>\n",
       "      <th>TEXTURAL CLASS_sandy loam</th>\n",
       "    </tr>\n",
       "  </thead>\n",
       "  <tbody>\n",
       "    <tr>\n",
       "      <th>157</th>\n",
       "      <td>158</td>\n",
       "      <td>26.820864</td>\n",
       "      <td>93.552091</td>\n",
       "      <td>0.58</td>\n",
       "      <td>0</td>\n",
       "      <td>1</td>\n",
       "      <td>0</td>\n",
       "      <td>1</td>\n",
       "      <td>0</td>\n",
       "      <td>0</td>\n",
       "    </tr>\n",
       "  </tbody>\n",
       "</table>\n",
       "</div>"
      ],
      "text/plain": [
       "     SAMPLE   LATITUTE  LONGITUDE   SQI  Season_Kharif  Season_Rabi  \\\n",
       "157     158  26.820864  93.552091  0.58              0            1   \n",
       "\n",
       "     TEXTURAL CLASS_Clay loam  TEXTURAL CLASS_Sandy loam  \\\n",
       "157                         0                          1   \n",
       "\n",
       "     TEXTURAL CLASS_clay loam  TEXTURAL CLASS_sandy loam  \n",
       "157                         0                          0  "
      ]
     },
     "execution_count": 131,
     "metadata": {},
     "output_type": "execute_result"
    }
   ],
   "source": [
    "X_test[0:1]"
   ]
  },
  {
   "cell_type": "code",
   "execution_count": 133,
   "id": "33162a8d",
   "metadata": {},
   "outputs": [],
   "source": [
    "result= classifier.predict(X_test[0:1])"
   ]
  },
  {
   "cell_type": "code",
   "execution_count": 134,
   "id": "69ddff0d",
   "metadata": {},
   "outputs": [
    {
     "data": {
      "text/plain": [
       "array(['Fallow'], dtype=object)"
      ]
     },
     "execution_count": 134,
     "metadata": {},
     "output_type": "execute_result"
    }
   ],
   "source": [
    "result"
   ]
  },
  {
   "cell_type": "code",
   "execution_count": 135,
   "id": "b81e2cc3",
   "metadata": {},
   "outputs": [
    {
     "data": {
      "text/plain": [
       "157    Fallow\n",
       "Name: Label, dtype: object"
      ]
     },
     "execution_count": 135,
     "metadata": {},
     "output_type": "execute_result"
    }
   ],
   "source": [
    "y_test[0:1]"
   ]
  },
  {
   "cell_type": "code",
   "execution_count": null,
   "id": "e1323e2f",
   "metadata": {},
   "outputs": [],
   "source": [
    "result= classifier.predict()"
   ]
  }
 ],
 "metadata": {
  "kernelspec": {
   "display_name": "Python 3 (ipykernel)",
   "language": "python",
   "name": "python3"
  },
  "language_info": {
   "codemirror_mode": {
    "name": "ipython",
    "version": 3
   },
   "file_extension": ".py",
   "mimetype": "text/x-python",
   "name": "python",
   "nbconvert_exporter": "python",
   "pygments_lexer": "ipython3",
   "version": "3.9.12"
  }
 },
 "nbformat": 4,
 "nbformat_minor": 5
}
