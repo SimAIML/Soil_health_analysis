{
 "cells": [
  {
   "cell_type": "code",
   "execution_count": 22,
   "id": "408d4105",
   "metadata": {},
   "outputs": [],
   "source": [
    "import IPython\n",
    "import pandas as pd\n",
    "import numpy as np\n",
    "import matplotlib.pyplot as plt\n",
    "%matplotlib inline\n",
    "import seaborn as sns\n",
    "from IPython import get_ipython\n",
    "import warnings\n",
    "warnings.filterwarnings('ignore')\n",
    "import plotly.express as px\n",
    "import plotly.graph_objects as go\n",
    "from plotly.subplots import make_subplots\n",
    "\n",
    "#LGBM Model\n",
    "import lightgbm as lgb\n",
    "\n",
    "#Sklearn\n",
    "from sklearn.model_selection import train_test_split\n",
    "from sklearn.metrics import accuracy_score,confusion_matrix, classification_report\n",
    "from sklearn.tree import DecisionTreeClassifier\n",
    "from sklearn.linear_model import LogisticRegression"
   ]
  },
  {
   "cell_type": "code",
   "execution_count": 23,
   "id": "71b19e96",
   "metadata": {},
   "outputs": [],
   "source": [
    "df_recommended= pd.read_excel('Cropping_System_final_Model.xlsx')"
   ]
  },
  {
   "cell_type": "code",
   "execution_count": 24,
   "id": "00921622",
   "metadata": {},
   "outputs": [
    {
     "data": {
      "text/html": [
       "<div>\n",
       "<style scoped>\n",
       "    .dataframe tbody tr th:only-of-type {\n",
       "        vertical-align: middle;\n",
       "    }\n",
       "\n",
       "    .dataframe tbody tr th {\n",
       "        vertical-align: top;\n",
       "    }\n",
       "\n",
       "    .dataframe thead th {\n",
       "        text-align: right;\n",
       "    }\n",
       "</style>\n",
       "<table border=\"1\" class=\"dataframe\">\n",
       "  <thead>\n",
       "    <tr style=\"text-align: right;\">\n",
       "      <th></th>\n",
       "      <th>SQI</th>\n",
       "      <th>Label</th>\n",
       "      <th>SeasonKharif</th>\n",
       "      <th>SeasonRabi</th>\n",
       "    </tr>\n",
       "  </thead>\n",
       "  <tbody>\n",
       "    <tr>\n",
       "      <th>0</th>\n",
       "      <td>0.77</td>\n",
       "      <td>Rice</td>\n",
       "      <td>1</td>\n",
       "      <td>0</td>\n",
       "    </tr>\n",
       "    <tr>\n",
       "      <th>1</th>\n",
       "      <td>0.84</td>\n",
       "      <td>Rice</td>\n",
       "      <td>1</td>\n",
       "      <td>0</td>\n",
       "    </tr>\n",
       "    <tr>\n",
       "      <th>2</th>\n",
       "      <td>0.85</td>\n",
       "      <td>Rice</td>\n",
       "      <td>1</td>\n",
       "      <td>0</td>\n",
       "    </tr>\n",
       "    <tr>\n",
       "      <th>3</th>\n",
       "      <td>0.80</td>\n",
       "      <td>Rice</td>\n",
       "      <td>1</td>\n",
       "      <td>0</td>\n",
       "    </tr>\n",
       "    <tr>\n",
       "      <th>4</th>\n",
       "      <td>0.81</td>\n",
       "      <td>Rice</td>\n",
       "      <td>1</td>\n",
       "      <td>0</td>\n",
       "    </tr>\n",
       "  </tbody>\n",
       "</table>\n",
       "</div>"
      ],
      "text/plain": [
       "    SQI Label  SeasonKharif  SeasonRabi\n",
       "0  0.77  Rice             1           0\n",
       "1  0.84  Rice             1           0\n",
       "2  0.85  Rice             1           0\n",
       "3  0.80  Rice             1           0\n",
       "4  0.81  Rice             1           0"
      ]
     },
     "execution_count": 24,
     "metadata": {},
     "output_type": "execute_result"
    }
   ],
   "source": [
    "df_recommended.head()"
   ]
  },
  {
   "cell_type": "code",
   "execution_count": 25,
   "id": "6f207a53",
   "metadata": {},
   "outputs": [],
   "source": [
    "X= df_recommended.drop('Label', axis=1)\n",
    "y= df_recommended['Label']"
   ]
  },
  {
   "cell_type": "code",
   "execution_count": 26,
   "id": "e71373b9",
   "metadata": {},
   "outputs": [],
   "source": [
    "X_train,X_test, y_train, y_test=train_test_split(X, y, test_size=0.30, shuffle=True, random_state=0)"
   ]
  },
  {
   "cell_type": "code",
   "execution_count": 27,
   "id": "d408f42b",
   "metadata": {},
   "outputs": [
    {
     "data": {
      "text/plain": [
       "DecisionTreeClassifier(criterion='entropy', random_state=0)"
      ]
     },
     "execution_count": 27,
     "metadata": {},
     "output_type": "execute_result"
    }
   ],
   "source": [
    "classifier= DecisionTreeClassifier(criterion='entropy', random_state=0)\n",
    "classifier.fit(X_train, y_train)"
   ]
  },
  {
   "cell_type": "code",
   "execution_count": 28,
   "id": "1c25dd07",
   "metadata": {},
   "outputs": [],
   "source": [
    "y_pred= classifier.predict(X_test)"
   ]
  },
  {
   "cell_type": "code",
   "execution_count": 29,
   "id": "619ce3ca",
   "metadata": {},
   "outputs": [
    {
     "name": "stdout",
     "output_type": "stream",
     "text": [
      "Decision tree model accuracy score:0.9385\n"
     ]
    }
   ],
   "source": [
    "print(\"Decision tree model accuracy score:{0:0.4f}\".format(accuracy_score(y_test, y_pred)))"
   ]
  },
  {
   "cell_type": "code",
   "execution_count": 30,
   "id": "87ac7b71",
   "metadata": {},
   "outputs": [
    {
     "data": {
      "text/plain": [
       "array([[ 3,  0,  0,  0,  0],\n",
       "       [ 1,  2,  0,  0,  0],\n",
       "       [ 0,  0,  1,  1,  0],\n",
       "       [ 1,  1,  0,  0,  0],\n",
       "       [ 0,  0,  0,  0, 55]], dtype=int64)"
      ]
     },
     "execution_count": 30,
     "metadata": {},
     "output_type": "execute_result"
    }
   ],
   "source": [
    "confusion_matrix(y_test,y_pred)"
   ]
  },
  {
   "cell_type": "code",
   "execution_count": 31,
   "id": "a468bd41",
   "metadata": {},
   "outputs": [
    {
     "data": {
      "image/png": "[encoded data removed]",
      "text/plain": [
       "<Figure size 1080x1080 with 2 Axes>"
      ]
     },
     "metadata": {
      "needs_background": "light"
     },
     "output_type": "display_data"
    }
   ],
   "source": [
    "decisiontree_cm= confusion_matrix(y_test,y_pred)\n",
    "plt.figure(figsize=(15,15))\n",
    "sns.heatmap(decisiontree_cm, annot=True, fmt='.0f', linewidths=.5, square=True, cmap='Blues');\n",
    "plt.ylabel('Actual Label');\n",
    "plt.xlabel('Predicted Label');\n",
    "all_sample_title=\"Confusion-Matrix score:\" + str(accuracy_score(y_pred,y_test))\n",
    "plt.title(all_sample_title, size=15)\n",
    "plt.show()"
   ]
  },
  {
   "cell_type": "code",
   "execution_count": 32,
   "id": "25909048",
   "metadata": {},
   "outputs": [
    {
     "name": "stdout",
     "output_type": "stream",
     "text": [
      "                 precision    recall  f1-score   support\n",
      "\n",
      "      Blackgram       0.60      1.00      0.75         3\n",
      "         Potato       0.67      0.67      0.67         3\n",
      "Rabi_vegetables       1.00      0.50      0.67         2\n",
      "        Rapseed       0.00      0.00      0.00         2\n",
      "           Rice       1.00      1.00      1.00        55\n",
      "\n",
      "       accuracy                           0.94        65\n",
      "      macro avg       0.65      0.63      0.62        65\n",
      "   weighted avg       0.94      0.94      0.93        65\n",
      "\n"
     ]
    }
   ],
   "source": [
    "print(classification_report(y_test, y_pred))"
   ]
  },
  {
   "cell_type": "code",
   "execution_count": null,
   "id": "a84da7c5",
   "metadata": {},
   "outputs": [],
   "source": []
  }
 ],
 "metadata": {
  "kernelspec": {
   "display_name": "Python 3 (ipykernel)",
   "language": "python",
   "name": "python3"
  },
  "language_info": {
   "codemirror_mode": {
    "name": "ipython",
    "version": 3
   },
   "file_extension": ".py",
   "mimetype": "text/x-python",
   "name": "python",
   "nbconvert_exporter": "python",
   "pygments_lexer": "ipython3",
   "version": "3.9.12"
  }
 },
 "nbformat": 4,
 "nbformat_minor": 5
}
